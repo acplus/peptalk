{
 "metadata": {
  "name": "svm-new"
 },
 "nbformat": 3,
 "nbformat_minor": 0,
 "worksheets": [
  {
   "cells": [
    {
     "cell_type": "markdown",
     "metadata": {},
     "source": [
      "# SVM classification of surface residues"
     ]
    },
    {
     "cell_type": "code",
     "collapsed": false,
     "input": [
      "import re\n",
      "import numpy as np\n",
      "from scipy import interp\n",
      "import pylab as pl\n",
      "from texttable import Texttable\n",
      "from IPython.core.display import Latex\n",
      "\n",
      "from sklearn import svm, datasets, metrics, cross_validation, preprocessing\n",
      "from sklearn.metrics import roc_curve, auc\n",
      "from sklearn.cross_validation import StratifiedKFold, KFold"
     ],
     "language": "python",
     "metadata": {},
     "outputs": [],
     "prompt_number": 25
    },
    {
     "cell_type": "code",
     "collapsed": false,
     "input": [
      "dfeat, dtags = datasets.load_svmlight_file('trainMat.svmlight.txt')\n",
      "dfeat = dfeat.toarray()\n",
      "X = preprocessing.scale(dfeat) \n",
      "y = np.array([1 if tag>0 else -1 for tag in dtags])\n",
      "n_samples, n_features = X.shape"
     ],
     "language": "python",
     "metadata": {},
     "outputs": [],
     "prompt_number": 26
    },
    {
     "cell_type": "code",
     "collapsed": false,
     "input": [
      "mat_header = !head -1 trainMat.svmlight.txt\n",
      "feature_names = [re.sub(\"([A-Z])\",\" \\g<0>\", f[2:]) for f in mat_header[0].split()[1:]]\n",
      "print feature_names"
     ],
     "language": "python",
     "metadata": {},
     "outputs": [
      {
       "output_type": "stream",
       "stream": "stdout",
       "text": [
        "['fragment Normalized Rank', 'num Close Fragments', 'relative Conservation Per Residue', 'residue Pocket Number', 'aa Polar', 'aa Hbonding']\n"
       ]
      }
     ],
     "prompt_number": 27
    },
    {
     "cell_type": "markdown",
     "metadata": {},
     "source": [
      "For **testing only**, reduce the size of data set:"
     ]
    },
    {
     "cell_type": "code",
     "collapsed": false,
     "input": [
      "import matplotlib as mpl\n",
      "mpl.rcParams['font.size'] = 12\n",
      "mpl.rcParams['text.usetex'] = True\n",
      "mpl.rcParams['figure.figsize'] = (12.0, 9.0)\n",
      "mpl.rcParams['legend.fancybox'] = True\n",
      "reload(pl)"
     ],
     "language": "python",
     "metadata": {},
     "outputs": [
      {
       "output_type": "pyout",
       "prompt_number": 28,
       "text": [
        "<module 'pylab' from '/usr/lib/pymodules/python2.7/pylab.pyc'>"
       ]
      }
     ],
     "prompt_number": 28
    },
    {
     "cell_type": "code",
     "collapsed": false,
     "input": [
      "X = X[:1000]\n",
      "y = y[:1000]\n",
      "n_samples, n_features = X.shape"
     ],
     "language": "python",
     "metadata": {},
     "outputs": [],
     "prompt_number": 13
    },
    {
     "cell_type": "markdown",
     "metadata": {},
     "source": [
      "## ROC curves of different classification configs"
     ]
    },
    {
     "cell_type": "markdown",
     "metadata": {},
     "source": [
      "### AUC and feature weight over all features, using cross-validation data"
     ]
    },
    {
     "cell_type": "markdown",
     "metadata": {},
     "source": [
      "Start by defining a K-fold partition of the data, plus a SV classifier:"
     ]
    },
    {
     "cell_type": "code",
     "collapsed": false,
     "input": [
      "# Initialize classifier with crossvalidation\n",
      "k_folds = 6\n",
      "#cv = KFold(len(y), k=k_folds)\n",
      "cv = StratifiedKFold(y, k=k_folds)\n",
      "classifier = svm.SVC(kernel='linear', probability=True, class_weight='auto')"
     ],
     "language": "python",
     "metadata": {},
     "outputs": [],
     "prompt_number": 29
    },
    {
     "cell_type": "code",
     "collapsed": false,
     "input": [
      "feat_weights = np.zeros((k_folds, n_features))\n",
      "test_aucs = np.zeros(k_folds)\n",
      "train_aucs = np.zeros(k_folds)\n",
      "\n",
      "clf_table = Texttable(max_width=160)\n",
      "clf_table.set_deco(Texttable.HEADER | Texttable.VLINES)\n",
      "clf_table.set_cols_dtype(list('t' + 'a'*n_features + 'cc'))\n",
      "clf_table.set_cols_align(list('l' + 'c'*n_features + 'cc'))\n",
      "clf_table.set_precision(4)\n",
      "clf_table.header(['CV subset'] + feature_names + ['AUC (training)', 'AUC (testing)'])\n",
      "\n",
      "mean_tpr = 0.0\n",
      "mean_tpr_train = 0.0\n",
      "fpr_grid = np.linspace(0, 1, 100)\n",
      "all_tpr = []\n",
      "\n",
      "print \"Calculating CV: \",\n",
      "for i, (train, test) in enumerate(cv):\n",
      "    print i, #np.c_[y[train], X_c[train,:]]\n",
      "    classifier.fit(X[train,:], y[train])\n",
      "    feat_weights[i] = classifier.coef_\n",
      "    \n",
      "    # Test on the training set\n",
      "    tr_probas_ = classifier.predict_proba(X[train,:])\n",
      "    tr_fpr, tr_tpr, tr_thresholds = roc_curve(y[train], tr_probas_[:,1])\n",
      "    train_aucs[i] = auc(tr_fpr, tr_tpr)\n",
      "    mean_tpr_train += interp(fpr_grid, tr_fpr, tr_tpr, left=0, right=1)\n",
      "    \n",
      "    #Test on the test set\n",
      "    probas_ = classifier.predict_proba(X[test,:])\n",
      "    # Compute ROC curve and area the curve\n",
      "    fpr, tpr, thresholds = roc_curve(y[test], probas_[:, 1])\n",
      "    test_aucs[i] = auc(fpr, tpr)\n",
      "    mean_tpr += interp(fpr_grid, fpr, tpr, left=0, right=1)\n",
      "\n",
      "    #clf_table.add_row([\"CV %d\" % i] + feat_weights[i].tolist() + [train_aucs[i], test_aucs[i]])\n",
      "\n",
      "print 'Done.'\n",
      "stats = np.c_[feat_weights, train_aucs, test_aucs]\n",
      "cv_names = [['CV%d'%i] for i in range(k_folds)]\n",
      "for i in range(k_folds):\n",
      "    clf_table.add_row(cv_names[i] + stats[i].tolist())\n",
      "clf_table.add_row(['Mean'] + stats.mean(axis=0).tolist())\n",
      "\n",
      "mean_tpr /= len(cv)\n",
      "mean_tpr[-1] = 1.0\n",
      "mean_auc = auc(fpr_grid, mean_tpr)\n",
      "\n",
      "mean_tpr_train /= len(cv)\n",
      "mean_tpr_train[-1] = 1.0\n",
      "mean_auc_train = auc(fpr_grid, mean_tpr_train)\n",
      "print \n",
      "print clf_table.draw()"
     ],
     "language": "python",
     "metadata": {},
     "outputs": [
      {
       "output_type": "stream",
       "stream": "stdout",
       "text": [
        "Calculating CV:  0 "
       ]
      },
      {
       "output_type": "stream",
       "stream": "stdout",
       "text": [
        "1 "
       ]
      },
      {
       "output_type": "stream",
       "stream": "stdout",
       "text": [
        "2 "
       ]
      },
      {
       "output_type": "stream",
       "stream": "stdout",
       "text": [
        "3 "
       ]
      },
      {
       "output_type": "stream",
       "stream": "stdout",
       "text": [
        "4 "
       ]
      },
      {
       "output_type": "stream",
       "stream": "stdout",
       "text": [
        "5 "
       ]
      },
      {
       "output_type": "stream",
       "stream": "stdout",
       "text": [
        "Done.\n",
        "\n",
        "  CV subset    |    fragment    |   num Close    |    relative    | residue Pocket |    aa Polar    |  aa Hbonding   | AUC (training) | AUC (testing)  \n",
        "               |   Normalized   |   Fragments    |  Conservation  |     Number     |                |                |                |                \n",
        "               |      Rank      |                |  Per Residue   |                |                |                |                |                \n",
        "===============+================+================+================+================+================+================+================+===============\n",
        "CV0            |    -0.7814     |     0.0757     |     0.1886     |    -0.0108     |     0.0245     |    -0.0794     |     0.8156     |     0.7964     \n",
        "CV1            |    -0.7882     |     0.0638     |     0.1874     |    -0.0116     |     0.0176     |    -0.0775     |     0.8097     |     0.8219     \n",
        "CV2            |    -0.7201     |     0.1232     |     0.2286     |    -0.0151     |    -0.0002     |    -0.0686     |     0.8154     |     0.8086     \n",
        "CV3            |    -0.7025     |     0.1238     |     0.2347     |    -0.0118     |     0.0537     |    -0.1355     |     0.8097     |     0.8348     \n",
        "CV4            |    -0.7283     |     0.0757     |     0.2693     |    -0.0171     |     0.0259     |    -0.1255     |     0.8119     |     0.8243     \n",
        "CV5            |    -0.6165     |     0.2082     |     0.3029     |    -0.0310     |     0.0418     |    -0.1276     |     0.8208     |     0.7947     \n",
        "Mean           |    -0.7228     |     0.1117     |     0.2352     |    -0.0162     |     0.0272     |    -0.1023     |     0.8139     |     0.8135     \n"
       ]
      }
     ],
     "prompt_number": 30
    },
    {
     "cell_type": "markdown",
     "metadata": {},
     "source": [
      "### Compare classifiers *trained* on different feature sets:"
     ]
    },
    {
     "cell_type": "markdown",
     "metadata": {},
     "source": [
      "Set up different configurations:"
     ]
    },
    {
     "cell_type": "code",
     "collapsed": false,
     "input": [
      "ALL_FEATS = 'All features'\n",
      "DELTA_CASTP = '$\\Delta$ CASTp'\n",
      "DELTA_FTMAP = '$\\Delta$ FTMap'\n",
      "DELTA_FTMAP_CASTP = '$\\Delta$ FTMap $\\Delta$ CASTp'\n",
      "PARTIAL_FTMAP = 'FTMap'\n",
      "PARTIAL_CASTP_CONSURF = 'CASTp + ConSurf'\n",
      "    \n",
      "configs = (ALL_FEATS, DELTA_CASTP, DELTA_FTMAP, \n",
      "        DELTA_FTMAP_CASTP, PARTIAL_FTMAP, PARTIAL_CASTP_CONSURF)\n",
      "\n",
      "configs_data = dict(zip(configs, \n",
      "        (X, X[:,(0,1,2,4,5)], X[:,2:], X[:,(2,4,5)], X[:,:2], X[:,2:4])))"
     ],
     "language": "python",
     "metadata": {},
     "outputs": [],
     "prompt_number": 31
    },
    {
     "cell_type": "markdown",
     "metadata": {},
     "source": [
      "1. Iterate configurations, and for each fold in the CV partifion, fit the model on the training set and test on both.\n",
      "2. Collect the data and present mean AUCs for each config in a table.\n",
      "3. Plot mean ROC curves of the different configs."
     ]
    },
    {
     "cell_type": "code",
     "collapsed": false,
     "input": [
      "n_configs = len(configs)\n",
      "test_aucs = np.zeros(n_configs)\n",
      "train_aucs = np.zeros(n_configs)\n",
      "\n",
      "clf_table = Texttable()\n",
      "clf_table.set_deco(Texttable.HEADER | Texttable.VLINES)\n",
      "clf_table.set_cols_dtype(list('tff'))\n",
      "clf_table.set_cols_align(list('lcc'))\n",
      "clf_table.header(['Classifier', 'Mean AUC (training)', 'Mean AUC (testing)'])\n",
      "\n",
      "for j, c in enumerate(configs):\n",
      "    X_c = configs_data[c]\n",
      "\n",
      "    mean_tpr = 0.0\n",
      "    mean_tpr_train = 0.0\n",
      "    fpr_grid = np.linspace(0, 1, 100)\n",
      "    all_tpr = []\n",
      "    \n",
      "    display(Latex(\"Calculating CVs on feature set: %s\" % c))\n",
      "    for i, (train, test) in enumerate(cv):\n",
      "        print i, #np.c_[y[train], X_c[train,:]]\n",
      "        classifier.fit(X_c[train,:], y[train])\n",
      "        \n",
      "        probas_ = classifier.predict_proba(X_c[test,:])\n",
      "        # Compute ROC curve and area the curve\n",
      "        fpr, tpr, thresholds = roc_curve(y[test], probas_[:, 1])\n",
      "        mean_tpr += interp(fpr_grid, fpr, tpr, left=0, right=1)\n",
      "        #mean_tpr[0] = 0.0\n",
      "        \n",
      "        tr_probas_ = classifier.predict_proba(X_c[train,:])\n",
      "        tr_fpr, tr_tpr, tr_thresholds = roc_curve(y[train], tr_probas_[:,1])\n",
      "        mean_tpr_train += interp(fpr_grid, tr_fpr, tr_tpr, left=0, right=1)\n",
      "        #mean_tpr_train[0] = 0.0\n",
      "        \n",
      "        #roc_auc = auc(fpr, tpr)\n",
      "        #pl.plot(fpr, tpr, lw=1, label='ROC fold %d (area = %0.2f)' % (i, roc_auc))\n",
      "    \n",
      "    print 'Done.'\n",
      "    \n",
      "    mean_tpr /= len(cv)\n",
      "    mean_tpr[-1] = 1.0\n",
      "    mean_auc = auc(fpr_grid, mean_tpr)\n",
      "    test_aucs[j] = mean_auc\n",
      "    \n",
      "    pl.plot(fpr_grid, mean_tpr, #'k--',\n",
      "            label='%s (area = %0.2f)' % (c, mean_auc), lw=2)\n",
      "    \n",
      "    mean_tpr_train /= len(cv)\n",
      "    mean_tpr_train[-1] = 1.0\n",
      "    mean_auc_train = auc(fpr_grid, mean_tpr_train)\n",
      "    train_aucs[j] = mean_auc_train\n",
      "    \n",
      "    clf_table.add_row([c, mean_auc_train, mean_auc])\n",
      "    \n",
      "pl.plot([0, 1], [0, 1], '--', color=(0.6, 0.6, 0.6), label='Random')\n",
      "\n",
      "pl.xlim([-0.05, 1.05])\n",
      "pl.ylim([-0.05, 1.05])\n",
      "pl.xlabel('False Positive Rate')\n",
      "pl.ylabel('True Positive Rate')\n",
      "pl.title('Comparison of classifier configurations' + '\\n'+\n",
      "        'Mean ROC curves, performance measured on test set')\n",
      "pl.legend(loc=\"lower right\")\n",
      "\n",
      "print clf_table.draw()\n",
      "\n",
      "pl.show()"
     ],
     "language": "python",
     "metadata": {},
     "outputs": [
      {
       "latex": [
        "Calculating CVs on feature set: All features"
       ],
       "output_type": "display_data",
       "text": [
        "<IPython.core.display.Latex at 0x3f5c610>"
       ]
      },
      {
       "output_type": "stream",
       "stream": "stdout",
       "text": [
        "0 "
       ]
      },
      {
       "output_type": "stream",
       "stream": "stdout",
       "text": [
        "1 "
       ]
      },
      {
       "output_type": "stream",
       "stream": "stdout",
       "text": [
        "2 "
       ]
      },
      {
       "output_type": "stream",
       "stream": "stdout",
       "text": [
        "3 "
       ]
      },
      {
       "output_type": "stream",
       "stream": "stdout",
       "text": [
        "4 "
       ]
      },
      {
       "output_type": "stream",
       "stream": "stdout",
       "text": [
        "5 "
       ]
      },
      {
       "output_type": "stream",
       "stream": "stdout",
       "text": [
        "Done.\n"
       ]
      },
      {
       "latex": [
        "Calculating CVs on feature set: $\\Delta$ CASTp"
       ],
       "output_type": "display_data",
       "text": [
        "<IPython.core.display.Latex at 0x3f24b10>"
       ]
      },
      {
       "output_type": "stream",
       "stream": "stdout",
       "text": [
        "0 "
       ]
      },
      {
       "output_type": "stream",
       "stream": "stdout",
       "text": [
        "1 "
       ]
      },
      {
       "output_type": "stream",
       "stream": "stdout",
       "text": [
        "2 "
       ]
      },
      {
       "output_type": "stream",
       "stream": "stdout",
       "text": [
        "3 "
       ]
      },
      {
       "output_type": "stream",
       "stream": "stdout",
       "text": [
        "4 "
       ]
      },
      {
       "output_type": "stream",
       "stream": "stdout",
       "text": [
        "5 "
       ]
      },
      {
       "output_type": "stream",
       "stream": "stdout",
       "text": [
        "Done.\n"
       ]
      },
      {
       "latex": [
        "Calculating CVs on feature set: $\\Delta$ FTMap"
       ],
       "output_type": "display_data",
       "text": [
        "<IPython.core.display.Latex at 0x3f24a10>"
       ]
      },
      {
       "output_type": "stream",
       "stream": "stdout",
       "text": [
        "0 "
       ]
      },
      {
       "output_type": "stream",
       "stream": "stdout",
       "text": [
        "1 "
       ]
      },
      {
       "output_type": "stream",
       "stream": "stdout",
       "text": [
        "2 "
       ]
      },
      {
       "output_type": "stream",
       "stream": "stdout",
       "text": [
        "3 "
       ]
      },
      {
       "output_type": "stream",
       "stream": "stdout",
       "text": [
        "4 "
       ]
      },
      {
       "output_type": "stream",
       "stream": "stdout",
       "text": [
        "5 "
       ]
      },
      {
       "output_type": "stream",
       "stream": "stdout",
       "text": [
        "Done.\n"
       ]
      },
      {
       "latex": [
        "Calculating CVs on feature set: $\\Delta$ FTMap $\\Delta$ CASTp"
       ],
       "output_type": "display_data",
       "text": [
        "<IPython.core.display.Latex at 0x3d96490>"
       ]
      },
      {
       "output_type": "stream",
       "stream": "stdout",
       "text": [
        "0 "
       ]
      },
      {
       "output_type": "stream",
       "stream": "stdout",
       "text": [
        "1 "
       ]
      },
      {
       "output_type": "stream",
       "stream": "stdout",
       "text": [
        "2 "
       ]
      },
      {
       "output_type": "stream",
       "stream": "stdout",
       "text": [
        "3 "
       ]
      },
      {
       "output_type": "stream",
       "stream": "stdout",
       "text": [
        "4 "
       ]
      },
      {
       "output_type": "stream",
       "stream": "stdout",
       "text": [
        "5 "
       ]
      },
      {
       "output_type": "stream",
       "stream": "stdout",
       "text": [
        "Done.\n"
       ]
      },
      {
       "latex": [
        "Calculating CVs on feature set: FTMap"
       ],
       "output_type": "display_data",
       "text": [
        "<IPython.core.display.Latex at 0x3d96e10>"
       ]
      },
      {
       "output_type": "stream",
       "stream": "stdout",
       "text": [
        "0 "
       ]
      },
      {
       "output_type": "stream",
       "stream": "stdout",
       "text": [
        "1 "
       ]
      },
      {
       "output_type": "stream",
       "stream": "stdout",
       "text": [
        "2 "
       ]
      },
      {
       "output_type": "stream",
       "stream": "stdout",
       "text": [
        "3 "
       ]
      },
      {
       "output_type": "stream",
       "stream": "stdout",
       "text": [
        "4 "
       ]
      },
      {
       "output_type": "stream",
       "stream": "stdout",
       "text": [
        "5 "
       ]
      },
      {
       "output_type": "stream",
       "stream": "stdout",
       "text": [
        "Done.\n"
       ]
      },
      {
       "latex": [
        "Calculating CVs on feature set: CASTp + ConSurf"
       ],
       "output_type": "display_data",
       "text": [
        "<IPython.core.display.Latex at 0x59f4cd0>"
       ]
      },
      {
       "output_type": "stream",
       "stream": "stdout",
       "text": [
        "0 "
       ]
      },
      {
       "output_type": "stream",
       "stream": "stdout",
       "text": [
        "1 "
       ]
      },
      {
       "output_type": "stream",
       "stream": "stdout",
       "text": [
        "2 "
       ]
      },
      {
       "output_type": "stream",
       "stream": "stdout",
       "text": [
        "3 "
       ]
      },
      {
       "output_type": "stream",
       "stream": "stdout",
       "text": [
        "4 "
       ]
      },
      {
       "output_type": "stream",
       "stream": "stdout",
       "text": [
        "5 "
       ]
      },
      {
       "output_type": "stream",
       "stream": "stdout",
       "text": [
        "Done.\n",
        "         Classifier           | Mean AUC (training) | Mean AUC (testing) \n",
        "==============================+=====================+===================\n",
        "All features                  |        0.814        |       0.814        \n",
        "$\\Delta$ CASTp                |        0.814        |       0.814        \n",
        "$\\Delta$ FTMap                |        0.768        |       0.768        \n",
        "$\\Delta$ FTMap $\\Delta$ CASTp |        0.754        |       0.754        \n",
        "FTMap                         |        0.724        |       0.724        \n",
        "CASTp + ConSurf               |        0.760        |       0.761        \n"
       ]
      },
      {
       "output_type": "display_data",
       "png": "[encoded data removed]"
      }
     ],
     "prompt_number": 32
    },
    {
     "cell_type": "heading",
     "level": 2,
     "metadata": {},
     "source": [
      "Recursive feature elimination"
     ]
    },
    {
     "cell_type": "code",
     "collapsed": false,
     "input": [
      "from sklearn.feature_selection import RFECV, RFE"
     ],
     "language": "python",
     "metadata": {},
     "outputs": [],
     "prompt_number": 61
    },
    {
     "cell_type": "code",
     "collapsed": false,
     "input": [
      "!head -1 classifier1_full/trainMat"
     ],
     "language": "python",
     "metadata": {},
     "outputs": [
      {
       "output_type": "stream",
       "stream": "stdout",
       "text": [
        "#label 1:fragmentNormalizedRank 2:numCloseFragments 3:relativeConservationPerResidue 4:residuePocketNumber 5:AA_POLAR 6:AA_HBONDING\r\n"
       ]
      }
     ],
     "prompt_number": 62
    },
    {
     "cell_type": "code",
     "collapsed": false,
     "input": [
      "rfe = RFE(estimator=classifier, n_features_to_select=3, step=1)\n",
      "rfe.fit(X, y)"
     ],
     "language": "python",
     "metadata": {},
     "outputs": [
      {
       "output_type": "pyout",
       "prompt_number": 63,
       "text": [
        "RFE(estimator=SVC(C=1.0, cache_size=200, class_weight='auto', coef0=0.0, degree=3,\n",
        "  gamma=0.0, kernel='linear', probability=True, shrinking=True, tol=0.001,\n",
        "  verbose=False),\n",
        "  estimator_params={}, n_features_to_select=3, step=1, verbose=0)"
       ]
      }
     ],
     "prompt_number": 63
    },
    {
     "cell_type": "code",
     "collapsed": false,
     "input": [
      "print rfe.support_\n",
      "print rfe.ranking_"
     ],
     "language": "python",
     "metadata": {},
     "outputs": [
      {
       "output_type": "stream",
       "stream": "stdout",
       "text": [
        "[ True  True  True False False False]\n",
        "[1 1 1 4 3 2]\n"
       ]
      }
     ],
     "prompt_number": 64
    },
    {
     "cell_type": "code",
     "collapsed": false,
     "input": [
      "rfecv = RFECV(classifier, step=1, cv=StratifiedKFold(y, 3),\n",
      "                loss_func=metrics.zero_one)\n",
      "rfecv.fit(X, y)"
     ],
     "language": "python",
     "metadata": {},
     "outputs": [
      {
       "output_type": "pyout",
       "prompt_number": 69,
       "text": [
        "RFECV(cv=sklearn.cross_validation.StratifiedKFold(labels=[-1. -1. ..., -1. -1.], k=3),\n",
        "   estimator=SVC(C=1.0, cache_size=200, class_weight='auto', coef0=0.0, degree=3,\n",
        "  gamma=0.0, kernel='linear', probability=True, shrinking=True, tol=0.001,\n",
        "  verbose=False),\n",
        "   estimator_params={}, loss_func=<function zero_one at 0x40c2d70>, step=1,\n",
        "   verbose=0)"
       ]
      }
     ],
     "prompt_number": 69
    },
    {
     "cell_type": "code",
     "collapsed": false,
     "input": [
      "print \"Optimal number of features : %d\" % rfecv.n_features_\n",
      "print \"Support:\", rfecv.support_\n",
      "print \"Feature ranking:\", rfecv.ranking_"
     ],
     "language": "python",
     "metadata": {},
     "outputs": [
      {
       "output_type": "stream",
       "stream": "stdout",
       "text": [
        "Optimal number of features : 5\n",
        "Support: [ True  True  True False  True  True]\n",
        "Feature ranking: [1 1 1 2 1 1]\n"
       ]
      }
     ],
     "prompt_number": 70
    },
    {
     "cell_type": "code",
     "collapsed": false,
     "input": [
      "pl.figure()\n",
      "pl.xlabel(\"Number of features selected\")\n",
      "pl.ylabel(\"Cross validation score (nb of misclassifications)\")\n",
      "pl.plot(xrange(1, len(rfecv.cv_scores_) + 1), rfecv.cv_scores_)\n",
      "pl.show()"
     ],
     "language": "python",
     "metadata": {},
     "outputs": [
      {
       "output_type": "display_data",
       "png": "[encoded data removed]"
      }
     ],
     "prompt_number": 71
    }
   ],
   "metadata": {}
  }
 ]
}
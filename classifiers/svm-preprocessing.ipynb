{
 "metadata": {
  "name": "svm-preprocessing"
 },
 "nbformat": 3,
 "nbformat_minor": 0,
 "worksheets": [
  {
   "cells": [
    {
     "cell_type": "heading",
     "level": 1,
     "metadata": {},
     "source": [
      "SVM features: preprocessing"
     ]
    },
    {
     "cell_type": "markdown",
     "metadata": {},
     "source": [
      "In this section we calculate quantitative residue descriptors used later in \n",
      "the SVM classification flow.\n",
      "\n",
      "We start by defining parameters of one PeptiDB entry, for which we calculate \n",
      "all the descriptors. \n",
      "\n",
      "The goal of each section is a function that accepts an AtomGroup object of \n",
      "the receptor (single chain), and optionally other parameters, returning a \n",
      "data frame or series object, with length equal to the number of residues in \n",
      "the receptor, where columns are one or more features of the residues. "
     ]
    },
    {
     "cell_type": "code",
     "collapsed": false,
     "input": [
      "# flag to mark cells that should run only in interactive mode\n",
      "interactive_session = True"
     ],
     "language": "python",
     "metadata": {},
     "outputs": []
    },
    {
     "cell_type": "code",
     "collapsed": false,
     "input": [
      "import pandas as pd\n",
      "import numpy as np\n",
      "import prody\n",
      "prody.confProDy(verbosity='error')\n",
      "\n",
      "import subprocess\n",
      "import tempfile\n",
      "import os, sys, shutil\n",
      "\n",
      "from collections import OrderedDict\n",
      "import itertools"
     ],
     "language": "python",
     "metadata": {},
     "outputs": []
    },
    {
     "cell_type": "code",
     "collapsed": false,
     "input": [
      "import joblib\n",
      "memory = joblib.Memory('cache')"
     ],
     "language": "python",
     "metadata": {},
     "outputs": []
    },
    {
     "cell_type": "code",
     "collapsed": false,
     "input": [
      "j = os.path.join\n",
      "PROJECT_PATH = '/home/assaff/projects/peptalk'\n",
      "\n",
      "DATA_PATH = j(PROJECT_PATH, 'data')\n",
      "PEPTIDB_DATA_PATH = j(DATA_PATH, 'peptiDB')\n",
      "\n",
      "BOUND_DATA_PATH = j(PEPTIDB_DATA_PATH, 'bound')\n",
      "UNBOUND_DATA_PATH = j(PEPTIDB_DATA_PATH, 'unbound')\n",
      "\n",
      "BOUND_PDB_PATH = j(BOUND_DATA_PATH, 'boundSet', 'mainChain')\n",
      "UNBOUND_PDB_PATH = j(UNBOUND_DATA_PATH, 'unboundSet')\n",
      "\n",
      "BOUND_FTMAP_PATH = j(BOUND_DATA_PATH, 'FTMapAnalysis', 'ftmapData')\n",
      "\n",
      "BOUND_CONSURF_PATH = j(BOUND_DATA_PATH, 'ConSurfAnalysis', 'data')"
     ],
     "language": "python",
     "metadata": {},
     "outputs": []
    },
    {
     "cell_type": "markdown",
     "metadata": {},
     "source": [
      "Defining parameters of sample entry:"
     ]
    },
    {
     "cell_type": "code",
     "collapsed": false,
     "input": [
      "pdb_suffix = '.pdb'\n",
      "bound, boundChain, peptideChain = '1AWR', 'C', 'I'\n",
      "unbound, unboundChain = '2ALF', 'A'\n",
      "\n",
      "boundPdbFilename = j(BOUND_PDB_PATH, bound+pdb_suffix)\n",
      "unboundPdbFilename = j(UNBOUND_PDB_PATH, bound+pdb_suffix) # Note: using the same PDB id as bound\n",
      "\n",
      "#@memory.cache\n",
      "def parsePDB_cached(filename):\n",
      "    return prody.parsePDB(filename)\n",
      "\n",
      "boundReceptor = parsePDB_cached(boundPdbFilename)\n",
      "unboundReceptor = parsePDB_cached(unboundPdbFilename)"
     ],
     "language": "python",
     "metadata": {},
     "outputs": []
    },
    {
     "cell_type": "code",
     "collapsed": false,
     "input": [
      "mem = joblib.Memory('cache')\n",
      "import naccess\n",
      "import fpocket\n",
      "\n",
      "class ReceptorData:\n",
      "    \n",
      "    def __init__(self, pdbid, bound=True):\n",
      "        self.pdbid = pdbid.upper()\n",
      "        self.context = 'bound' if bound else 'unbound'\n",
      "        \n",
      "        self.DATA_PATH = j(PEPTIDB_DATA_PATH, self.context)\n",
      "        self.PDB_DATA_PATH = j(self.DATA_PATH, self.context+'Set', 'mainChain' if bound else '')\n",
      "        self.FTMAP_DATA_PATH = j(self.DATA_PATH, 'FTMapAnalysis', 'ftmapData')\n",
      "        self.CONSURF_DATA_PATH = j(self.DATA_PATH, 'ConSurfAnalysis', 'data')\n",
      "        \n",
      "        self.receptor_filename = j(self.PDB_DATA_PATH, '%s.pdb' % self.pdbid)\n",
      "        self.receptor_atoms = prody.parsePDB(self.receptor_filename).protein\n",
      "        \n",
      "        self.receptor_chain = self.receptor_atoms.getHierView()['A']\n",
      "        self.resnum_index = pd.MultiIndex.from_tuples(\n",
      "                            zip(\n",
      "                                [pdbid]*self.receptor_chain.numResidues(),\n",
      "                                self.receptor_chain.ca.getResnums()\n",
      "                            ), \n",
      "                                names = [\n",
      "                                    'PDB identifier', \n",
      "                                    'Residue number',\n",
      "                                        ]\n",
      "                                )\n",
      "        self.df = pd.DataFrame(index=self.resnum_index)\n",
      "        print self.pdbid\n",
      "        \n",
      "    def conservation(self,):\n",
      "        consurf_pdb_filename = os.path.join(self.CONSURF_DATA_PATH, self.pdbid, 'pdbFILE_view_ConSurf.pdb')\n",
      "        p = prody.parsePDB(consurf_pdb_filename)\n",
      "        consurf_chain = p.getHierView()['A']\n",
      "        return pd.DataFrame(\n",
      "                            columns=['Conservation-score'],\n",
      "                            index=self.resnum_index,\n",
      "                            data=consurf_chain.ca.getBetas(),\n",
      "                            )\n",
      "    \n",
      "    def sasa(self,):\n",
      "        rsa = naccess.getResidueSasa(self.receptor_atoms)\n",
      "        return pd.DataFrame(\n",
      "                            rsa.values, \n",
      "                            index=self.resnum_index,\n",
      "                            columns=rsa.columns, \n",
      "                            )\n",
      "    \n",
      "    def ftmap(self,):\n",
      "        ######\n",
      "        # calculate consensus clusters (ccls) statistics, independent of specific residues:\n",
      "        ftmap_atoms = prody.parsePDB(j(self.FTMAP_DATA_PATH, '{}.map.clean.pdb'.format(self.pdbid)))\n",
      "        \n",
      "        ccls = pd.DataFrame(\n",
      "                            list(ftmap_atoms.getHierView().iterChains()), \n",
      "                            #index=range(h.numChains()),\n",
      "                            columns=['chain'],\n",
      "                            )\n",
      "        \n",
      "        ccls['cs_size'] = ccls.chain.map(lambda chain: chain.numResidues())\n",
      "        \n",
      "        ccls['cs_rank'] = ccls.cs_size.rank(ascending=False, method='first')\n",
      "        DUMMY_CCL_RANK = 15 #ccls.cs_rank.max()+1\n",
      "        \n",
      "        ######\n",
      "        def nearby_ccls(resnum, cutoff=4.5):\n",
      "            res = self.receptor_chain.getResidue(resnum)\n",
      "            res_contacts = prody.Contacts(res.noh.getCoords())\n",
      "            is_near_res = lambda ccl: res_contacts.select(cutoff, ccl) is not None\n",
      "                            #ag.select('same chain as within {} of res'.format(float(cutoff)), \n",
      "                            #                res=res) is not None\n",
      "            \n",
      "            return ccls[ccls.chain.map(is_near_res)].cs_rank.tolist()\n",
      "        \n",
      "        def nearby_ccl(resnum, cutoff=4.5):\n",
      "            ccls_near_ranks = nearby_ccls(resnum, cutoff)\n",
      "            return ccls_near_ranks[0] if ccls_near_ranks else DUMMY_CCL_RANK#np.nan\n",
      "        \n",
      "        def num_nearby_ccls(resnum):\n",
      "            return len(nearby_ccls(resnum))\n",
      "        \n",
      "        ind = pd.Index(self.receptor_chain.ca.getResnums())\n",
      "        \n",
      "        res_ccl_map = pd.DataFrame(\n",
      "                    columns=['resnum','cs_rank', 'num_nearby_cs'], \n",
      "                    data=zip(\n",
      "                        ind.tolist(), \n",
      "                        map(nearby_ccl, ind),\n",
      "                        map(num_nearby_ccls, ind),\n",
      "                        ),\n",
      "                    )\n",
      "        \n",
      "        ccls = ccls.append({'chain': None, 'cs_size': 1, 'cs_rank': DUMMY_CCL_RANK}, ignore_index=True)\n",
      "        \n",
      "        ccls['cs_normalized_rank'] = ccls.cs_rank / ccls.cs_size\n",
      "        \n",
      "        ccls['cs_svm_size'] = np.minimum(\n",
      "                                    np.ceil(ccls.cs_size / float(5)),\n",
      "                                    4\n",
      "                                    )\n",
      "        ccls['cs_svm_rank'] = np.minimum(ccls.cs_rank, 5)\n",
      "        \n",
      "        ccls['cs_svm_norm_rank'] = ccls['cs_svm_rank'] / ccls['cs_svm_size'].astype(float)\n",
      "        \n",
      "        \n",
      "        res_ccl_stats = res_ccl_map.merge(\n",
      "                        ccls.drop(['chain'], axis=1), \n",
      "                        how='inner', \n",
      "                        on='cs_rank',\n",
      "                            ).set_index('resnum')\n",
      "        return res_ccl_stats.reindex(index=self.resnum_index, level=1)\n",
      "    \n",
      "    def pockets(self,):\n",
      "        pocket_data = fpocket.pocket_data(self.receptor_filename)\n",
      "        DUMMY_POCKET_RANK = 15#pocket_data['Pocket rank'].max()+1\n",
      "        \n",
      "        def nearby_pocket(resnum, cutoff=4.5):\n",
      "            \n",
      "            res = self.receptor_chain.getResidue(resnum)\n",
      "        \n",
      "            res_contacts = prody.Contacts(res.noh.getCoords())\n",
      "            is_near_res = lambda pocket_atoms: res_contacts.select(cutoff, pocket_atoms) is not None\n",
      "        \n",
      "            pockets_near_rank = pocket_data.ix[\n",
      "                            pocket_data['Pocket atoms'].map(is_near_res), \n",
      "                            'Pocket rank'\n",
      "                                ].tolist()\n",
      "            return pockets_near_rank[0] if pockets_near_rank else DUMMY_POCKET_RANK# np.nan\n",
      "            \n",
      "        res_pocket_map = pd.DataFrame(\n",
      "                              columns = ['resnum', 'Pocket rank'],\n",
      "                              index=self.resnum_index,\n",
      "                              data=[(resnum, nearby_pocket(resnum)) for resnum \n",
      "                                    in self.resnum_index.get_level_values(1)],\n",
      "                              )\n",
      "        pocket_data = pocket_data.append({colname: DUMMY_POCKET_RANK if colname=='Pocket rank' else 0 \n",
      "                            for colname in pocket_data.columns}, \n",
      "                                ignore_index=True,)\n",
      "        \n",
      "        res_pocket_stats = res_pocket_map.merge(\n",
      "                            pocket_data.drop(['Pocket atoms'], axis=1), \n",
      "                            how='inner', \n",
      "                            on='Pocket rank', \n",
      "                                ).set_index('resnum')\n",
      "        \n",
      "        return res_pocket_stats.reindex(res_pocket_map.index, level=1)\n",
      "    \n",
      "    def aa_props(self,):\n",
      "        aa_props = pd.read_csv('aa_props.csv', true_values='X', false_values='-',)\n",
      "        aa_props['resname'] = [s.upper() for s in aa_props['Abbrev.']]\n",
      "        \n",
      "        aa_props['pKa'] = [float(n) for n in aa_props['pKa'].replace('-', '0.0')]\n",
      "        aa_props = aa_props.replace('-', 'None')\n",
      "        aa_props = aa_props.ix[:, 'Hydrophobic':]\n",
      "        \n",
      "        res_aa_map = pd.DataFrame(\n",
      "                              columns=['resnum', 'resname'],\n",
      "                              index=self.resnum_index,\n",
      "                              data=[(resnum, self.receptor_chain.getResidue(resnum).getResname())\n",
      "                                    for resnum in self.resnum_index.get_level_values(1)],\n",
      "                            )\n",
      "        res_aa_stats = res_aa_map.merge(aa_props, how='inner', on='resname',).set_index('resnum')\n",
      "        return res_aa_stats.reindex(res_aa_map.index, level=1)\n",
      "            \n",
      "    #@property\n",
      "    def data(self,):\n",
      "        if not hasattr(self, '_data'):\n",
      "            feature_generators = OrderedDict(\n",
      "                                         NAccess=self.sasa(),\n",
      "                                         ConSurf=self.conservation(),\n",
      "                                         FTMap=self.ftmap(),\n",
      "                                         FPocket=self.pockets(),\n",
      "                                         Physico=self.aa_props(),\n",
      "                                         )\n",
      "            \n",
      "            tuples = list(itertools.chain(*[\n",
      "                         [(prot_name, col_name) for col_name in prot_df.columns.tolist()]\n",
      "                         for prot_name, prot_df in feature_generators.items()\n",
      "                     ]))\n",
      "            idex = pd.MultiIndex.from_tuples(tuples)\n",
      "            \n",
      "            self._data = pd.concat(feature_generators.values(), axis=1, keys=feature_generators.keys())\n",
      "        return self._data"
     ],
     "language": "python",
     "metadata": {},
     "outputs": []
    },
    {
     "cell_type": "code",
     "collapsed": false,
     "input": [
      "@memory.cache\n",
      "def recdata(pdbid):\n",
      "    return ReceptorData(pdbid).data()"
     ],
     "language": "python",
     "metadata": {},
     "outputs": []
    },
    {
     "cell_type": "code",
     "collapsed": false,
     "input": [
      "d = recdata('1AWR')"
     ],
     "language": "python",
     "metadata": {},
     "outputs": []
    },
    {
     "cell_type": "code",
     "collapsed": false,
     "input": [
      "d.ix[\n",
      "        d['NAccess']['All-atoms-rel'] >= 30.0\n",
      "    ].ix[:5,:]"
     ],
     "language": "python",
     "metadata": {},
     "outputs": []
    },
    {
     "cell_type": "code",
     "collapsed": false,
     "input": [
      "pdbs_list = pd.read_csv('archive_2013-02-13/pdb_list.txt', header=None)[0][:3]"
     ],
     "language": "python",
     "metadata": {},
     "outputs": []
    },
    {
     "cell_type": "code",
     "collapsed": false,
     "input": [
      "bound_data = pd.concat([recdata(pdbid) for pdbid in pdbs_list],)"
     ],
     "language": "python",
     "metadata": {},
     "outputs": []
    },
    {
     "cell_type": "code",
     "collapsed": false,
     "input": [
      "from sklearn import preprocessing"
     ],
     "language": "python",
     "metadata": {},
     "outputs": []
    },
    {
     "cell_type": "code",
     "collapsed": false,
     "input": [
      "str_columns = bound_data.columns[bound_data.dtypes==object]\n",
      "for c in str_columns:\n",
      "    le = preprocessing.LabelEncoder().fit(bound_data[c])\n",
      "    bound_data[c] = le.transform(bound_data[c])\n",
      "    print c, list(le.classes_)"
     ],
     "language": "python",
     "metadata": {},
     "outputs": []
    },
    {
     "cell_type": "code",
     "collapsed": false,
     "input": [
      "bound_data.ix[:10,str_columns]"
     ],
     "language": "python",
     "metadata": {},
     "outputs": []
    },
    {
     "cell_type": "heading",
     "level": 2,
     "metadata": {},
     "source": [
      "FTMap-based features"
     ]
    },
    {
     "cell_type": "code",
     "collapsed": false,
     "input": [
      "np.min(np.ceil(ccls.cs_size / float(5)))"
     ],
     "language": "python",
     "metadata": {},
     "outputs": []
    },
    {
     "cell_type": "code",
     "collapsed": false,
     "input": [
      "p = prody.parsePDB(j(BOUND_FTMAP_PATH, '{}.map.clean.pdb'.format(bound)))\n",
      "h=p.getHierView()\n",
      "#list(h.iterSegments())\n",
      "ccls = pd.DataFrame(list(h.iterChains()), columns=['chain'])\n",
      "ccls['cs_size'] = ccls.chain.map(lambda chain: chain.numResidues())\n",
      "ccls['cs_rank'] = ccls.cs_size.rank(ascending=False, method='first')#range(h.numChains())\n",
      "\n",
      "ccls['cs_normalized_rank'] = ccls.cs_rank / ccls.cs_size\n",
      "\n",
      "ccls['cs_svm_size'] = np.minimum(\n",
      "                            np.ceil(ccls.cs_size / float(5)),\n",
      "                            4\n",
      "                            )\n",
      "ccls['cs_svm_rank'] = np.minimum(ccls.cs_rank, 5)\n",
      "\n",
      "ccls['cs_svm_norm_rank'] = ccls['cs_svm_rank'] / ccls['cs_svm_size'].astype(float)"
     ],
     "language": "python",
     "metadata": {},
     "outputs": []
    },
    {
     "cell_type": "code",
     "collapsed": false,
     "input": [
      "ccls"
     ],
     "language": "python",
     "metadata": {},
     "outputs": []
    },
    {
     "cell_type": "code",
     "collapsed": false,
     "input": [
      "def nearby_ccls(chid, resnum, cutoff=4.5):\n",
      "    #dist_matrices = np.array([cdist(res.getCoords(), ccl.getCoords()) for ccl in ccls])\n",
      "    res = boundReceptor.getHierView().getResidue(chid, resnum)\n",
      "    is_near_res = lambda ag: ag.select('same chain as within {} of res'.format(float(cutoff)), \n",
      "                                    res=res) is not None\n",
      "    #print ccls.map(is_near_res)\n",
      "    ccls_near = ccls[ccls.chain.map(is_near_res)].cs_rank.tolist()#filter(is_near_res, ccls)\n",
      "    return ccls_near[0] if ccls_near else np.nan #.notnull()\n",
      "    #if ccls_near:\n",
      "    #    return ccls_near[0]\n",
      "    #return None"
     ],
     "language": "python",
     "metadata": {},
     "outputs": []
    },
    {
     "cell_type": "code",
     "collapsed": false,
     "input": [
      "c=nearby_ccls('A', 125)\n",
      "nccls = lambda num: nearby_ccls('A', num)"
     ],
     "language": "python",
     "metadata": {},
     "outputs": []
    },
    {
     "cell_type": "code",
     "collapsed": false,
     "input": [
      "nccls(38)"
     ],
     "language": "python",
     "metadata": {},
     "outputs": []
    },
    {
     "cell_type": "code",
     "collapsed": false,
     "input": [
      "ind = pd.Index(boundReceptor.getHierView()['A'].ca.getResnums())\n",
      "r = pd.DataFrame(columns=['resnum','cs_rank'], data=zip(*(ind.tolist(), map(nccls, ind))))\n",
      "display(r.head(30))\n",
      "#display(ccls.head(30))\n",
      "#r['ccl-num'] = r.resnum.map(nccls)\n",
      "res_ccls = r.merge(ccls, how='inner', on='cs_rank', )#left_index=True)\n",
      "res_ccls = res_ccls.set_index('resnum').sort()\n",
      "res_ccls.reindex(index=ind, ).head(60).tail(20)\n",
      "#pd.melt(res_ccls, id_vars=['resnum']).head(20)\n",
      "#ccl_mapping.map(ccls.atoms).head(50).tail(10)\n",
      "#r.join.ix[ccl_mapping.values].head()"
     ],
     "language": "python",
     "metadata": {},
     "outputs": []
    },
    {
     "cell_type": "code",
     "collapsed": false,
     "input": [
      "\n",
      "def ccl_rank(chid, resnum):\n",
      "    neigh_ccls = nearby_ccls(chid, resnum)\n",
      "    print len(neigh_ccls)\n",
      "    if not neigh_ccls: return \n",
      "    return list(ccls).index(neigh_ccls[0])/float(len(ccls)) # normalized rank"
     ],
     "language": "python",
     "metadata": {},
     "outputs": []
    },
    {
     "cell_type": "heading",
     "level": 3,
     "metadata": {},
     "source": [
      "Fragment normalized rank:"
     ]
    },
    {
     "cell_type": "code",
     "collapsed": false,
     "input": [
      "def rank(ccl):\n",
      "    return list(ccls).index(ccl)+1\n",
      "\n",
      "def size(ccl):\n",
      "    return ccl.numResidues()\n",
      "\n",
      "def norm_rank(ccl):\n",
      "    return rank(ccl) / size(ccl)\n",
      "\n",
      "def svm_ftmap_size(ccl):\n",
      "    size_scaled = np.ceil(size(ccl) / float(5))\n",
      "    return min(size_scaled, 4)\n",
      "\n",
      "def svm_ftmap_rank(ccl):\n",
      "    min(rank(ccl), 5)\n",
      "    \n",
      "def svm_ftmap_final_rank(ccl):\n",
      "    return svm_ftmap_rank(ccl) / float(svm_ftmap_size(ccl))\n",
      "\n",
      "def feat_norm_frag_rank(chid, resnum):\n",
      "    ccls = nearby_ccls(chid, resnum)\n",
      "    if ccls:\n",
      "        return svm_ftmap_final_rank(ccls[0])\n",
      "    return 1.0\n"
     ],
     "language": "python",
     "metadata": {},
     "outputs": []
    },
    {
     "cell_type": "markdown",
     "metadata": {},
     "source": [
      "### Num CSs:"
     ]
    },
    {
     "cell_type": "code",
     "collapsed": false,
     "input": [
      "def svm_num_cs(chid, resnum):\n",
      "    ccls = nearby_ccls(chid, resnum)\n",
      "    return min(len(ccls), 5)"
     ],
     "language": "python",
     "metadata": {},
     "outputs": []
    },
    {
     "cell_type": "heading",
     "level": 3,
     "metadata": {},
     "source": [
      "Conservation per residue:"
     ]
    },
    {
     "cell_type": "code",
     "collapsed": false,
     "input": [
      "def getConservationScores(pdbid):\n",
      "    consurf_pdb_filename = os.path.join(BOUND_CONSURF_PATH, pdbid, 'pdbFILE_view_ConSurf.pdb')\n",
      "    p = prody.parsePDB(consurf_pdb_filename)\n",
      "    return p.ca.getBetas()"
     ],
     "language": "python",
     "metadata": {},
     "outputs": []
    },
    {
     "cell_type": "code",
     "collapsed": false,
     "input": [
      "cons=getConservationScores(bound)\n",
      "cons_ser = pd.Series(cons, index=rsa.index)\n",
      "cons_ser.head()\n"
     ],
     "language": "python",
     "metadata": {},
     "outputs": []
    },
    {
     "cell_type": "heading",
     "level": 3,
     "metadata": {},
     "source": [
      "Pocket features:"
     ]
    },
    {
     "cell_type": "code",
     "collapsed": false,
     "input": [
      "#@memory.cache\n",
      "def nearby_pockets(chid, resnum):\n",
      "    res = boundReceptor.getHierView().getResidue(chid, resnum)\n",
      "    pockets = fpocket(boundPdbFilename)\n",
      "    \n",
      "    res_contacts = prody.Contacts(res.noh.getCoords())\n",
      "    def near_res(pocket_atoms):\n",
      "        return res_contacts.select(4.5, pocket_atoms) is not None\n",
      "    \n",
      "    return pockets[pockets['Pocket PDB'].map(near_res)]"
     ],
     "language": "python",
     "metadata": {},
     "outputs": []
    },
    {
     "cell_type": "code",
     "collapsed": false,
     "input": [
      "d = table.ix[1][-1]\n",
      "d"
     ],
     "language": "python",
     "metadata": {},
     "outputs": []
    },
    {
     "cell_type": "code",
     "collapsed": false,
     "input": [
      "nearby_pockets('A', 2)"
     ],
     "language": "python",
     "metadata": {},
     "outputs": []
    },
    {
     "cell_type": "code",
     "collapsed": false,
     "input": [
      "def nearby_pocket_rank(chid, resnum):\n",
      "    pocs = nearby_pockets(chid, resnum)\n",
      "    if len(pocs)==0:\n",
      "        return 5\n",
      "    return pocs['Pocket rank'].values[0]"
     ],
     "language": "python",
     "metadata": {},
     "outputs": []
    },
    {
     "cell_type": "code",
     "collapsed": false,
     "input": [
      "nearby_pocket_rank('A', 2)"
     ],
     "language": "python",
     "metadata": {},
     "outputs": []
    },
    {
     "cell_type": "code",
     "collapsed": false,
     "input": [
      "ccl_conts = [prody.Contacts(ccl) for ccl in ccls]\n",
      "ccl_centers = [prody.calcCenter(ccl) for ccl in ccls]\n",
      "limited_ranks = [i+1 if i<4 else 5 for i in range(len(ccls))]\n",
      "sizes = np.array([ccl.numResidues() for ccl in ccls])\n",
      "sizes_scaled = np.array([i if i<5 else 4 for i in np.ceil(sizes / float(5))])\n",
      "\n",
      "frag_norm_rank = limited_ranks / sizes_scaled\n",
      "frag_norm_rank = (frag_norm_rank - frag_norm_rank.min()) / frag_norm_rank.max()\n",
      "display(frag_norm_rank)\n",
      "display(zip(limited_ranks, sizes_scaled))\n",
      "\n",
      "res_cbetas = boundReceptor.select('(name CB and not resname GLY) or (name CA and resname GLY)')\n",
      "\n",
      "d=pd.DataFrame(cdist(res_cbetas.getCoords(), ccl_centers),\n",
      "               index = map(repr, boundReceptor.iterResidues()),\n",
      "               #columns = map(repr, ccls),\n",
      "               columns = enumerate(map(len, ccls), 1),\n",
      "                )\n",
      "\n",
      "rech = boundReceptor.getHierView()\n",
      "for res in boundReceptor.iterResidues():\n",
      "    #res_row = d.ix[repr(res)]\n",
      "    #near_ccls = res_row[res_row<10]\n",
      "    #print res, near_ccls.index.tolist()\n",
      "    #print res, res_row.argmin(), res_row.min()\n",
      "    c = prody.Contacts(res)\n",
      "    def near_res(atoms, cutoff=4.0):\n",
      "        return c.select(cutoff, atoms) is not None\n",
      "    nearby_ccls = np.array(map(near_res, ccls))\n",
      "    print res, \n",
      "    print(frag_norm_rank[nearby_ccls])"
     ],
     "language": "python",
     "metadata": {},
     "outputs": []
    },
    {
     "cell_type": "code",
     "collapsed": false,
     "input": [
      "for res in boundReceptor.iterResidues():\n",
      "    conts = [c.select(4.5, res) for c in ccl_conts]\n",
      "    cb=res.getAtom('CB') or res.getAtom('CA')\n",
      "    print cb, cb.getCoords()\n",
      "    #print res, [(repr(ccl), len(c)) for ccl, c in zip(ccls, conts) if c]"
     ],
     "language": "python",
     "metadata": {},
     "outputs": []
    }
   ],
   "metadata": {}
  }
 ]
}
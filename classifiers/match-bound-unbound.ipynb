{
 "metadata": {
  "name": "match-bound-unbound"
 },
 "nbformat": 3,
 "nbformat_minor": 0,
 "worksheets": [
  {
   "cells": [
    {
     "cell_type": "code",
     "collapsed": false,
     "input": [
      "import prody"
     ],
     "language": "python",
     "metadata": {},
     "outputs": [],
     "prompt_number": 98
    },
    {
     "cell_type": "code",
     "collapsed": false,
     "input": [
      "pdbid = '1AWR'\n",
      "bound_cluster = [int(c) for c in '54 59 80 81 101 102 106 112 121 125'.split()]\n",
      "bound_cluster"
     ],
     "language": "python",
     "metadata": {},
     "outputs": [
      {
       "output_type": "pyout",
       "prompt_number": 99,
       "text": [
        "[54, 59, 80, 81, 101, 102, 106, 112, 121, 125]"
       ]
      }
     ],
     "prompt_number": 99
    },
    {
     "cell_type": "code",
     "collapsed": false,
     "input": [
      "def getUnboundResidues(pdbid, bound_resnums):\n",
      "    bound_path = '../data/peptiDB/bound/boundSet/{}.pdb'\n",
      "    b = prody.parsePDB(bound_path.format(pdbid), chain='A')\n",
      "    b.setTitle(b.getTitle()+'_bound')\n",
      "    \n",
      "    unbound_path = '../data/peptiDB/unbound/unboundSet/{}.pdb'\n",
      "    ub = prody.parsePDB(unbound_path.format(pdbid), chain='A')\n",
      "    ub.setTitle(ub.getTitle()+'_unbound')\n",
      "    \n",
      "    m = prody.matchChains(b, ub, seqid=60, overlap=60, )\n",
      "    b_mapped, ub_mapped = m[0][:2]\n",
      "    b_ub_mapping = dict(zip(b_mapped.getResnums(), ub_mapped.getResnums()))\n",
      "    return [b_ub_mapping[b_resnum] for b_resnum in bound_resnums if b_ub_mapping.has_key(b_resnum)]"
     ],
     "language": "python",
     "metadata": {},
     "outputs": [],
     "prompt_number": 101
    },
    {
     "cell_type": "code",
     "collapsed": false,
     "input": [
      "getUnboundResidues(pdbid, bound_cluster)"
     ],
     "language": "python",
     "metadata": {},
     "outputs": [
      {
       "output_type": "stream",
       "stream": "stderr",
       "text": [
        "@> 1258 atoms and 1 coordinate set(s) were parsed in 0.01s.\n"
       ]
      },
      {
       "output_type": "stream",
       "stream": "stderr",
       "text": [
        "@> 1254 atoms and 1 coordinate set(s) were parsed in 0.01s.\n"
       ]
      },
      {
       "output_type": "stream",
       "stream": "stderr",
       "text": [
        "@> Checking AtomGroup 1AWR_A_bound: 1 chains are identified\n"
       ]
      },
      {
       "output_type": "stream",
       "stream": "stderr",
       "text": [
        "@> Checking AtomGroup 1AWR_A_unbound: 1 chains are identified\n"
       ]
      },
      {
       "output_type": "stream",
       "stream": "stderr",
       "text": [
        "@> Trying to match chains based on residue numbers and names:\n"
       ]
      },
      {
       "output_type": "stream",
       "stream": "stderr",
       "text": [
        "@>   Comparing Chain A from 1AWR_A_bound (len=164) and Chain A from 1AWR_A_unbound (len=164):\n"
       ]
      },
      {
       "output_type": "stream",
       "stream": "stderr",
       "text": [
        "@> \tFailed to match chains (seqid=4%, overlap=99%).\n"
       ]
      },
      {
       "output_type": "stream",
       "stream": "stderr",
       "text": [
        "@> Trying to match chains based on local sequence alignment:\n"
       ]
      },
      {
       "output_type": "stream",
       "stream": "stderr",
       "text": [
        "@>   Comparing Chain A from 1AWR_A_bound (len=164) and Chain A from 1AWR_A_unbound (len=164):\n"
       ]
      },
      {
       "output_type": "stream",
       "stream": "stderr",
       "text": [
        "@> \tMatch: 164 residues match with 99% sequence identity and 100% overlap.\n"
       ]
      },
      {
       "output_type": "pyout",
       "prompt_number": 102,
       "text": [
        "[55, 60, 81, 82, 102, 103, 107, 113, 122, 126]"
       ]
      }
     ],
     "prompt_number": 102
    },
    {
     "cell_type": "code",
     "collapsed": false,
     "input": [
      "m = prody.matchChains(b, ub, seqid=80, overlap=60)\n",
      "b_ub_map, ub_b_map = m[0][:2]"
     ],
     "language": "python",
     "metadata": {},
     "outputs": [
      {
       "output_type": "stream",
       "stream": "stderr",
       "text": [
        "@> Checking AtomGroup 2PUY_A: 1 chains are identified\n"
       ]
      },
      {
       "output_type": "stream",
       "stream": "stderr",
       "text": [
        "@> Checking AtomGroup 2PUY: 1 chains are identified\n"
       ]
      },
      {
       "output_type": "stream",
       "stream": "stderr",
       "text": [
        "@> Trying to match chains based on residue numbers and names:\n"
       ]
      },
      {
       "output_type": "stream",
       "stream": "stderr",
       "text": [
        "@>   Comparing Chain A from 2PUY_A (len=60) and Chain A from 2PUY (len=56):\n"
       ]
      },
      {
       "output_type": "stream",
       "stream": "stderr",
       "text": [
        "@> \tFailed to match chains (seqid=4%, overlap=93%).\n"
       ]
      },
      {
       "output_type": "stream",
       "stream": "stderr",
       "text": [
        "@> Trying to match chains based on local sequence alignment:\n"
       ]
      },
      {
       "output_type": "stream",
       "stream": "stderr",
       "text": [
        "@>   Comparing Chain A from 2PUY_A (len=60) and Chain A from 2PUY (len=56):\n"
       ]
      },
      {
       "output_type": "stream",
       "stream": "stderr",
       "text": [
        "@> \tMatch: 52 residues match with 88% sequence identity and 86% overlap.\n"
       ]
      }
     ],
     "prompt_number": 106
    },
    {
     "cell_type": "code",
     "collapsed": false,
     "input": [
      "#map bound resnums to unbound resnums:\n",
      "zip(zip(b_ub_map.getResnames(), b_ub_map.getResnums()), zip(ub_b_map.getResnames(), ub_b_map.getResnums()))"
     ],
     "language": "python",
     "metadata": {},
     "outputs": [
      {
       "output_type": "pyout",
       "prompt_number": 109,
       "text": [
        "[(('HIS', 1), ('SER', 5)),\n",
        " (('MET', 2), ('SER', 6)),\n",
        " (('ILE', 3), ('GLY', 7)),\n",
        " (('HIS', 4), ('HIS', 8)),\n",
        " (('GLU', 5), ('GLU', 9)),\n",
        " (('ASP', 6), ('ASP', 10)),\n",
        " (('PHE', 7), ('PHE', 11)),\n",
        " (('CYS', 8), ('CYS', 12)),\n",
        " (('SER', 9), ('SER', 13)),\n",
        " (('VAL', 10), ('VAL', 14)),\n",
        " (('CYS', 11), ('CYS', 15)),\n",
        " (('ARG', 12), ('ARG', 16)),\n",
        " (('LYS', 13), ('LYS', 17)),\n",
        " (('SER', 14), ('SER', 18)),\n",
        " (('GLY', 15), ('GLY', 19)),\n",
        " (('GLN', 16), ('GLN', 20)),\n",
        " (('LEU', 17), ('LEU', 21)),\n",
        " (('LEU', 18), ('LEU', 22)),\n",
        " (('MET', 19), ('MET', 23)),\n",
        " (('CYS', 20), ('CYS', 24)),\n",
        " (('ASP', 21), ('ASP', 25)),\n",
        " (('THR', 22), ('THR', 26)),\n",
        " (('CYS', 23), ('CYS', 27)),\n",
        " (('SER', 24), ('SER', 28)),\n",
        " (('ARG', 25), ('ARG', 29)),\n",
        " (('VAL', 26), ('VAL', 30)),\n",
        " (('TYR', 27), ('TYR', 31)),\n",
        " (('HIS', 28), ('HIS', 32)),\n",
        " (('LEU', 29), ('LEU', 33)),\n",
        " (('ASP', 30), ('ASP', 34)),\n",
        " (('CYS', 31), ('CYS', 35)),\n",
        " (('LEU', 32), ('LEU', 36)),\n",
        " (('ASP', 33), ('ASP', 37)),\n",
        " (('PRO', 34), ('PRO', 38)),\n",
        " (('PRO', 35), ('PRO', 39)),\n",
        " (('LEU', 36), ('LEU', 40)),\n",
        " (('LYS', 37), ('LYS', 41)),\n",
        " (('THR', 38), ('THR', 42)),\n",
        " (('ILE', 39), ('ILE', 43)),\n",
        " (('PRO', 40), ('PRO', 44)),\n",
        " (('LYS', 41), ('LYS', 45)),\n",
        " (('GLY', 42), ('GLY', 46)),\n",
        " (('MET', 43), ('MET', 47)),\n",
        " (('TRP', 44), ('TRP', 48)),\n",
        " (('ILE', 45), ('ILE', 49)),\n",
        " (('CYS', 46), ('CYS', 50)),\n",
        " (('PRO', 47), ('PRO', 51)),\n",
        " (('ARG', 48), ('ARG', 52)),\n",
        " (('CYS', 49), ('CYS', 53)),\n",
        " (('GLN', 50), ('GLN', 54)),\n",
        " (('ASP', 51), ('ASP', 55)),\n",
        " (('GLN', 52), ('GLN', 56))]"
       ]
      }
     ],
     "prompt_number": 109
    }
   ],
   "metadata": {}
  }
 ]
}
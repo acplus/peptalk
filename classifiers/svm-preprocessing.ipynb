{
 "metadata": {
  "name": "svm-preprocessing"
 },
 "nbformat": 3,
 "nbformat_minor": 0,
 "worksheets": [
  {
   "cells": [
    {
     "cell_type": "heading",
     "level": 1,
     "metadata": {},
     "source": [
      "SVM features: preprocessing"
     ]
    },
    {
     "cell_type": "markdown",
     "metadata": {},
     "source": [
      "In this section we calculate quantitative residue descriptors used later in \n",
      "the SVM classification flow.\n",
      "\n",
      "We start by defining parameters of one PeptiDB entry, for which we calculate \n",
      "all the descriptors. \n",
      "\n",
      "The goal of each section is a function that accepts an AtomGroup object of \n",
      "the receptor (single chain), and optionally other parameters, returning a \n",
      "data frame or series object, with length equal to the number of residues in \n",
      "the receptor, where columns are one or more features of the residues. "
     ]
    },
    {
     "cell_type": "code",
     "collapsed": false,
     "input": [
      "# flag to mark cells that should run only in interactive mode\n",
      "interactive_session = True"
     ],
     "language": "python",
     "metadata": {},
     "outputs": []
    },
    {
     "cell_type": "code",
     "collapsed": false,
     "input": [
      "import pandas as pd\n",
      "from sklearn import preprocessing\n",
      "\n",
      "import os, sys, shutil\n",
      "import string, re\n",
      "\n",
      "#from collections import OrderedDict"
     ],
     "language": "python",
     "metadata": {},
     "outputs": []
    },
    {
     "cell_type": "code",
     "collapsed": false,
     "input": [
      "import receptor_data\n",
      "reload(receptor_data)"
     ],
     "language": "python",
     "metadata": {},
     "outputs": []
    },
    {
     "cell_type": "heading",
     "level": 2,
     "metadata": {},
     "source": [
      "Aggregating over all entries in PeptiDB:"
     ]
    },
    {
     "cell_type": "code",
     "collapsed": false,
     "input": [
      "def header(val):\n",
      "    s = str(val).replace('.', '')\n",
      "    return '-'.join(s.split())"
     ],
     "language": "python",
     "metadata": {},
     "outputs": []
    },
    {
     "cell_type": "code",
     "collapsed": false,
     "input": [
      "def data_set(context='bound'):\n",
      "    csv_filename = '%s.data.old.csv' % context\n",
      "    print \"Reading data from %s\" % csv_filename\n",
      "    old_df = pd.read_csv(csv_filename, index_col=[0,1])\n",
      "    \n",
      "    # read alascan data into a DF object\n",
      "    alascan_df = pd.DataFrame(\n",
      "                              data=old_df['ALASCAN_DDG'].values,\n",
      "                              index=old_df.index,\n",
      "                              columns=pd.MultiIndex.from_tuples([('Rosetta AlaScan', 'Residue ddG')],),\n",
      "                              )\n",
      "    \n",
      "    # iterate over all PDB ids, and concatenate the data tables.\n",
      "    pdbs_list = old_df.index.levels[0]\n",
      "    features_df = pd.concat([receptor_data.recdata(pdbid, context) for pdbid in pdbs_list],)\n",
      "    \n",
      "    # merge (inner join) the two tables based on their residue number indices.\n",
      "    merged_table = pd.merge(features_df, alascan_df, how='inner', left_index=True, right_index=True, )\n",
      "    merged_table.index.names = features_df.index.names\n",
      "    return merged_table\n",
      "    "
     ],
     "language": "python",
     "metadata": {},
     "outputs": []
    },
    {
     "cell_type": "code",
     "collapsed": false,
     "input": [
      "def encode_data(data):\n",
      "    '''\n",
      "    Prepares a PeptiDB data table for quantitative analysis (namely SVM).\n",
      "    Iterates over all columns in the table, each encoded according to:\n",
      "    - String-value columns are encoded to integer values, and \n",
      "        then binarized as separate binary variables. E.g. residue name column is initially\n",
      "        encoded 3-letter codes as string. The result is a DataFrame object with 20 columns,\n",
      "        each dedicated to one amino acid.\n",
      "    - Boolean values: left unchanged\n",
      "    - Float and integers: left unchanged\n",
      "\n",
      "    Also, column names are stripped of any spaces and periods.\n",
      "\n",
      "    Finally, all new columns are concatenated and returned as one DataFrame.\n",
      "    '''\n",
      "    \n",
      "    feature_data = []\n",
      "    oh = preprocessing.OneHotEncoder()\n",
      "    for colname, colseries in list(data.iteritems()):\n",
      "        protocol_name, feature_name = colname\n",
      "        \n",
      "        if colseries.dtype == object: # values are in string format\n",
      "            \n",
      "            # encode string values into integers, then reshape it into column\n",
      "            # array. reshaping is critical for binarization later.\n",
      "            le = preprocessing.LabelEncoder()\n",
      "            enc_values = le.fit_transform(colseries).reshape((len(colseries), 1))\n",
      "            \n",
      "            colnames = [  (\n",
      "                            header(protocol_name), \n",
      "                            \n",
      "                            '{feat}.{value}'.format(\n",
      "                                        feat=header(feature_name), \n",
      "                                        value=header(feature_value),\n",
      "                                          ),\n",
      "                          \n",
      "                          ) for feature_value in le.classes_ ]\n",
      "            values = oh.fit_transform(enc_values).todense().astype(bool)\n",
      "        \n",
      "        else:\n",
      "            colnames = [ (header(protocol_name), header(feature_name)) ]\n",
      "            values = colseries.values#.astype(float)# if colseries.dtype == bool else colseries.values\n",
      "        column_index = pd.MultiIndex.from_tuples(colnames, names=['Protocol', 'Feature name'])\n",
      "        \n",
      "        feature_data.append(pd.DataFrame(data=values, index=data.index, columns=column_index))\n",
      "    \n",
      "    return pd.concat(feature_data, axis=1)"
     ],
     "language": "python",
     "metadata": {},
     "outputs": []
    },
    {
     "cell_type": "code",
     "collapsed": false,
     "input": [
      "p = pd.Panel({context : encode_data(data_set(context)) for context in ('bound', 'unbound')})"
     ],
     "language": "python",
     "metadata": {},
     "outputs": []
    },
    {
     "cell_type": "code",
     "collapsed": false,
     "input": [
      "p.save('peptidb.data.full.pkl')\n",
      "p.to_excel('peptidb.xlsx', )"
     ],
     "language": "python",
     "metadata": {},
     "outputs": []
    },
    {
     "cell_type": "heading",
     "level": 3,
     "metadata": {},
     "source": [
      "Reproducing data sets with the 6 features recalculated:"
     ]
    },
    {
     "cell_type": "code",
     "collapsed": false,
     "input": [
      "peptalk_features = [\n",
      "            'FTMap.cs_svm_norm_rank', \n",
      "            'FTMap.num_nearby_cs', \n",
      "            'ConSurf.Conservation-score', \n",
      "            'FPocket.Real-volume-(approximation)',\n",
      "            'Physico.Polar',\n",
      "            'Physico.Hydrophobic',\n",
      "            'Rosetta-AlaScan.Residue-ddG',\n",
      "            ]"
     ],
     "language": "python",
     "metadata": {},
     "outputs": []
    },
    {
     "cell_type": "code",
     "collapsed": false,
     "input": [
      "for i in p.items:\n",
      "    svm_data = p[i].dropna()\n",
      "    \n",
      "    flat_svm_data = pd.DataFrame(svm_data.values, columns=pd.Index('.'.join(col) for col in svm_data.columns), index=svm_data.index)\n",
      "    flat_svm_data.to_csv('%s.data.full.csv' % i, float_format='%.3f')\n",
      "    \n",
      "    peptalk_context_data = flat_svm_data.ix[:,peptalk_features]\n",
      "    peptalk_context_data.to_csv('%s.data.csv' % i, float_format='%.3f')"
     ],
     "language": "python",
     "metadata": {},
     "outputs": []
    }
   ],
   "metadata": {}
  }
 ]
}
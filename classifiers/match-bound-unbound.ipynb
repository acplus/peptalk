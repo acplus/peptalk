{
 "metadata": {
  "name": "match-bound-unbound"
 },
 "nbformat": 3,
 "nbformat_minor": 0,
 "worksheets": [
  {
   "cells": [
    {
     "cell_type": "code",
     "collapsed": false,
     "input": [
      "import prody\n",
      "prody.confProDy(verbosity='warning')\n",
      "\n",
      "from sklearn import datasets\n",
      "import pandas as pd\n",
      "import numpy as np\n",
      "import os\n",
      "import pickle\n",
      "\n",
      "from collections import OrderedDict"
     ],
     "language": "python",
     "metadata": {},
     "outputs": []
    },
    {
     "cell_type": "code",
     "collapsed": false,
     "input": [
      "prody.setAlignmentMethod('local')"
     ],
     "language": "python",
     "metadata": {},
     "outputs": []
    },
    {
     "cell_type": "code",
     "collapsed": false,
     "input": [
      "def getUnboundResidues(pdbid, bound_resnums):\n",
      "    bound_path_template = '../data/peptiDB/bound/boundSet/mainChain/{}.pdb'\n",
      "    b = prody.parsePDB(bound_path_template.format(pdbid))\n",
      "    b.setTitle(b.getTitle()+'_bound')\n",
      "    \n",
      "    unbound_path_template = '../data/peptiDB/unbound/unboundSet/{}.pdb'\n",
      "    unbound_path = unbound_path_template.format(pdbid)\n",
      "    if not os.path.isfile(unbound_path):\n",
      "        return [-1]*len(bound_resnums)\n",
      "    ub = prody.parsePDB(unbound_path)\n",
      "    ub.setTitle(ub.getTitle()+'_unbound')\n",
      "    \n",
      "    m = prody.matchChains(b, ub, seqid=30, overlap=20, pwalign=True)\n",
      "    #if m is None:\n",
      "    #    m = prody.matchChains(b, ub, seqid=30, overlap=80, )\n",
      "    b_mapped, ub_mapped = m[0][:2]\n",
      "    b_ub_mapping = dict(zip(b_mapped.getResnums(), ub_mapped.getResnums()))\n",
      "    unbound_resnums = [b_ub_mapping[b_resnum] if b_ub_mapping.has_key(b_resnum) else -2 \n",
      "                        for b_resnum in bound_resnums]\n",
      "    assert len(unbound_resnums)==len(bound_resnums)\n",
      "    return unbound_resnums"
     ],
     "language": "python",
     "metadata": {},
     "outputs": []
    },
    {
     "cell_type": "code",
     "collapsed": false,
     "input": [
      "bound_ddgs = pd.read_csv('boundRes.ddg.txt', sep=' ',)# index_col=[0,2,1])\n",
      "def getMappedTable(pdbid):\n",
      "    bound_positives = bound_ddgs.ix[(bound_ddgs.PDBID==pdbid)]# & (bound_ddgs.ALASCAN_DDG > 0)]#.head(10)\n",
      "    \n",
      "    unbound_positives = pd.Series(\n",
      "                                  data=getUnboundResidues(pdbid, bound_positives.BOUND_RESNUM), \n",
      "                                  index=bound_positives.index,\n",
      "                                  #dtype=np.int64,\n",
      "                                  )\n",
      "    \n",
      "    bound_positives['UNBOUND_RESNUM'] = unbound_positives\n",
      "    #display(bound_positives)\n",
      "    return bound_positives.set_index(['PDBID','BOUND_RESNUM'],)"
     ],
     "language": "python",
     "metadata": {},
     "outputs": []
    },
    {
     "cell_type": "code",
     "collapsed": false,
     "input": [
      "DDGS_PKL_FILENAME = 'ddgs.pkl'\n",
      "if os.path.isfile(DDGS_PKL_FILENAME):\n",
      "    # load the table from the pickle file\n",
      "    with open(DDGS_PKL_FILENAME) as pkl_fh:\n",
      "        ddgs = pickle.load(pkl_fh)\n",
      "else:\n",
      "    tdict = OrderedDict()\n",
      "    for p in bound_ddgs.PDBID.unique():\n",
      "        print p, \n",
      "        tdict[p] = getMappedTable(p)\n",
      "        #break\n",
      "    print ''\n",
      "\n",
      "    ddgs = pd.concat((tdict[p] for p in tdict), )\n",
      "    \n",
      "    # now pickle the table for later use\n",
      "    with open(DDGS_PKL_FILENAME, 'w') as pkl_fh:\n",
      "        pickle.dump(ddgs, pkl_fh)\n",
      "ddgs.head()"
     ],
     "language": "python",
     "metadata": {},
     "outputs": []
    },
    {
     "cell_type": "code",
     "collapsed": false,
     "input": [
      "ddgs_flat = ddgs.reset_index()"
     ],
     "language": "python",
     "metadata": {},
     "outputs": []
    },
    {
     "cell_type": "code",
     "collapsed": false,
     "input": [
      "feature_names = [\n",
      "                 'CS-normalized-rank',\n",
      "                 'Number-of-CSs',\n",
      "                 'Conservation-score',\n",
      "                 'Pocket-rank',\n",
      "                 'Polar',\n",
      "                 'Hydrogen-bonding',\n",
      "                 ]\n",
      "def assembleDataFile(dataset='bound'):\n",
      "    dataset_resnum_colname = '{}_RESNUM'.format(dataset.upper())\n",
      "    svmlight_array = datasets.load_svmlight_file('{}Mat.svmlight.txt'.format(dataset))[0].toarray()\n",
      "    svmlight_index = pd.MultiIndex.from_tuples([(pdbid, int(res[3:])) for pdbid, res \n",
      "                                                    in loadtxt('{}Mat.svmlight.txt'.format(dataset), \n",
      "                                                    skiprows=1, usecols=[8, 10], comments='$', \n",
      "                                                    dtype=(str, str))\n",
      "                            ], names=['PDBID', dataset_resnum_colname])\n",
      "    svmlight_data = pd.DataFrame(\n",
      "                                 data=svmlight_array,\n",
      "                                 index=svmlight_index,\n",
      "                                 columns=feature_names,\n",
      "                                 )\n",
      "    \n",
      "    ddgs_dataset = ddgs_flat.ix[getattr(ddgs_flat, dataset_resnum_colname) >=0 ,\n",
      "                                ['PDBID', dataset_resnum_colname, 'ALASCAN_DDG']]\n",
      "    ddgs_data = ddgs_dataset.set_index(keys=['PDBID', dataset_resnum_colname], )\n",
      "    svm_data = svmlight_data.join(\n",
      "                                    other=ddgs_data, \n",
      "                                    how='left', \n",
      "                                )\n",
      "    svm_data.fillna(0, inplace=True)\n",
      "    return svm_data#.ix[:,:-1].head(10))#ix[~svm_data.ALASCAN_DDG.notnull()].head(10))"
     ],
     "language": "python",
     "metadata": {},
     "outputs": []
    },
    {
     "cell_type": "code",
     "collapsed": false,
     "input": [
      "for dataset in ['bound', 'unbound']:\n",
      "    data_frame = assembleDataFile(dataset)\n",
      "    data_frame.to_csv('{}.data.csv'.format(dataset), float_format='%.3f', )"
     ],
     "language": "python",
     "metadata": {},
     "outputs": []
    },
    {
     "cell_type": "code",
     "collapsed": false,
     "input": [],
     "language": "python",
     "metadata": {},
     "outputs": []
    }
   ],
   "metadata": {}
  }
 ]
}
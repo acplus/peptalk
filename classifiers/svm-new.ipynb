{
 "metadata": {
  "name": "svm-new"
 },
 "nbformat": 3,
 "nbformat_minor": 0,
 "worksheets": [
  {
   "cells": [
    {
     "cell_type": "markdown",
     "metadata": {},
     "source": [
      "# SVM classification of surface residues"
     ]
    },
    {
     "cell_type": "markdown",
     "metadata": {},
     "source": [
      "This notebook documents my work on SVM classification of surface residues of receptors in peptide-protein interactions.\n",
      "The data is read directly from Dana's early work on PeptiDB, analyzing surface residues in that data set using various tools.\n",
      "\n",
      "First, import the necessary Python modules for analysis, primarily SciKit-Learn (sklearn) used for machine learning and statistical analysis."
     ]
    },
    {
     "cell_type": "code",
     "collapsed": false,
     "input": [
      "import re\n",
      "import os\n",
      "import numpy as np\n",
      "from scipy import interp\n",
      "import pylab as pl\n",
      "import hashlib\n",
      "from texttable import Texttable\n",
      "from IPython.core.display import Latex\n",
      "\n",
      "from sklearn import svm, datasets, metrics, cross_validation, preprocessing\n",
      "from sklearn.metrics import roc_curve, auc\n",
      "from sklearn.cross_validation import StratifiedKFold, KFold, LeaveOneLabelOut\n",
      "\n",
      "import pandas as pd"
     ],
     "language": "python",
     "metadata": {},
     "outputs": [],
     "prompt_number": 1
    },
    {
     "cell_type": "code",
     "collapsed": false,
     "input": [
      "THESIS_SRC = '/home/assaff/projects/msc-thesis/source'"
     ],
     "language": "python",
     "metadata": {},
     "outputs": [],
     "prompt_number": 2
    },
    {
     "cell_type": "heading",
     "level": 2,
     "metadata": {},
     "source": [
      "Loading data from CSV files:"
     ]
    },
    {
     "cell_type": "markdown",
     "metadata": {},
     "source": [
      "Load precomputed data about the samples encoded as tables in CSV format, and scale the data such that each feature has $\\mu = 0$ and $\\sigma^2 = 1$.\n",
      "\n",
      "These data include PDB identifiers, residue numbers, feature values for each of our six features, and lastly $\\Delta\\Delta G$ values for each residue.\n",
      "\n",
      "Note: $\\Delta\\Delta G$ values for residues in the unbound sets are actually calculated for their *bound* counterparts. \n",
      "The correspondence was inferred using a local sequence alignment between bound and unbound receptors, as detailed in the `match-bound-unbound` notebook."
     ]
    },
    {
     "cell_type": "heading",
     "level": 3,
     "metadata": {},
     "source": [
      "Bound data:"
     ]
    },
    {
     "cell_type": "code",
     "collapsed": false,
     "input": [
      "bound_data = pd.read_csv('bound.data.csv', index_col=[0,1])\n",
      "display(bound_data.head())"
     ],
     "language": "python",
     "metadata": {},
     "outputs": [
      {
       "html": [
        "<div style=\"max-height:1000px;max-width:1500px;overflow:auto;\">\n",
        "<table border=\"1\" class=\"dataframe\">\n",
        "  <thead>\n",
        "    <tr style=\"text-align: right;\">\n",
        "      <th></th>\n",
        "      <th></th>\n",
        "      <th>Fragment normalized rank</th>\n",
        "      <th>Number of fragments</th>\n",
        "      <th>Conservation score</th>\n",
        "      <th>Normalized pocket rank</th>\n",
        "      <th>AA polar</th>\n",
        "      <th>AA hydrophobic</th>\n",
        "      <th>ALASCAN_DDG</th>\n",
        "    </tr>\n",
        "    <tr>\n",
        "      <th>PDBID</th>\n",
        "      <th>BOUND_RESNUM</th>\n",
        "      <th></th>\n",
        "      <th></th>\n",
        "      <th></th>\n",
        "      <th></th>\n",
        "      <th></th>\n",
        "      <th></th>\n",
        "      <th></th>\n",
        "    </tr>\n",
        "  </thead>\n",
        "  <tbody>\n",
        "    <tr>\n",
        "      <th rowspan=\"5\" valign=\"top\">1AWR</th>\n",
        "      <th>1 </th>\n",
        "      <td> 1</td>\n",
        "      <td> 0</td>\n",
        "      <td> 0.850</td>\n",
        "      <td> 1.000</td>\n",
        "      <td> 0</td>\n",
        "      <td> 0</td>\n",
        "      <td> 0</td>\n",
        "    </tr>\n",
        "    <tr>\n",
        "      <th>12</th>\n",
        "      <td> 1</td>\n",
        "      <td> 0</td>\n",
        "      <td> 0.212</td>\n",
        "      <td> 1.000</td>\n",
        "      <td> 1</td>\n",
        "      <td> 1</td>\n",
        "      <td> 0</td>\n",
        "    </tr>\n",
        "    <tr>\n",
        "      <th>13</th>\n",
        "      <td> 1</td>\n",
        "      <td> 0</td>\n",
        "      <td> 0.212</td>\n",
        "      <td> 1.000</td>\n",
        "      <td> 0</td>\n",
        "      <td> 0</td>\n",
        "      <td> 0</td>\n",
        "    </tr>\n",
        "    <tr>\n",
        "      <th>14</th>\n",
        "      <td> 1</td>\n",
        "      <td> 0</td>\n",
        "      <td> 0.106</td>\n",
        "      <td> 1.000</td>\n",
        "      <td> 1</td>\n",
        "      <td> 1</td>\n",
        "      <td> 0</td>\n",
        "    </tr>\n",
        "    <tr>\n",
        "      <th>15</th>\n",
        "      <td> 1</td>\n",
        "      <td> 0</td>\n",
        "      <td> 0.106</td>\n",
        "      <td> 0.667</td>\n",
        "      <td> 0</td>\n",
        "      <td> 1</td>\n",
        "      <td> 0</td>\n",
        "    </tr>\n",
        "  </tbody>\n",
        "</table>\n",
        "</div>"
       ],
       "output_type": "display_data",
       "text": [
        "                    Fragment normalized rank  Number of fragments  \\\n",
        "PDBID BOUND_RESNUM                                                  \n",
        "1AWR  1                                    1                    0   \n",
        "      12                                   1                    0   \n",
        "      13                                   1                    0   \n",
        "      14                                   1                    0   \n",
        "      15                                   1                    0   \n",
        "\n",
        "                    Conservation score  Normalized pocket rank  AA polar  \\\n",
        "PDBID BOUND_RESNUM                                                         \n",
        "1AWR  1                          0.850                   1.000         0   \n",
        "      12                         0.212                   1.000         1   \n",
        "      13                         0.212                   1.000         0   \n",
        "      14                         0.106                   1.000         1   \n",
        "      15                         0.106                   0.667         0   \n",
        "\n",
        "                    AA hydrophobic  ALASCAN_DDG  \n",
        "PDBID BOUND_RESNUM                               \n",
        "1AWR  1                          0            0  \n",
        "      12                         1            0  \n",
        "      13                         0            0  \n",
        "      14                         1            0  \n",
        "      15                         1            0  "
       ]
      }
     ],
     "prompt_number": 3
    },
    {
     "cell_type": "code",
     "collapsed": false,
     "input": [
      "bound_feature_data = bound_data.ix[:,:-1]"
     ],
     "language": "python",
     "metadata": {},
     "outputs": [],
     "prompt_number": 4
    },
    {
     "cell_type": "code",
     "collapsed": false,
     "input": [
      "bound_ddg_data = bound_data.ix[:,-1]"
     ],
     "language": "python",
     "metadata": {},
     "outputs": [],
     "prompt_number": 5
    },
    {
     "cell_type": "heading",
     "level": 3,
     "metadata": {},
     "source": [
      "Unbound data:"
     ]
    },
    {
     "cell_type": "code",
     "collapsed": false,
     "input": [
      "unbound_data = pd.read_csv('unbound.data.csv', index_col=[0,1])\n",
      "display(unbound_data.head())"
     ],
     "language": "python",
     "metadata": {},
     "outputs": [
      {
       "html": [
        "<div style=\"max-height:1000px;max-width:1500px;overflow:auto;\">\n",
        "<table border=\"1\" class=\"dataframe\">\n",
        "  <thead>\n",
        "    <tr style=\"text-align: right;\">\n",
        "      <th></th>\n",
        "      <th></th>\n",
        "      <th>Fragment normalized rank</th>\n",
        "      <th>Number of fragments</th>\n",
        "      <th>Conservation score</th>\n",
        "      <th>Normalized pocket rank</th>\n",
        "      <th>AA polar</th>\n",
        "      <th>AA hydrophobic</th>\n",
        "      <th>ALASCAN_DDG</th>\n",
        "    </tr>\n",
        "    <tr>\n",
        "      <th>PDBID</th>\n",
        "      <th>UNBOUND_RESNUM</th>\n",
        "      <th></th>\n",
        "      <th></th>\n",
        "      <th></th>\n",
        "      <th></th>\n",
        "      <th></th>\n",
        "      <th></th>\n",
        "      <th></th>\n",
        "    </tr>\n",
        "  </thead>\n",
        "  <tbody>\n",
        "    <tr>\n",
        "      <th rowspan=\"5\" valign=\"top\">1AWR</th>\n",
        "      <th>2 </th>\n",
        "      <td> 1</td>\n",
        "      <td> 0</td>\n",
        "      <td> 0.889</td>\n",
        "      <td> 0.5</td>\n",
        "      <td> 0</td>\n",
        "      <td> 0</td>\n",
        "      <td> 0</td>\n",
        "    </tr>\n",
        "    <tr>\n",
        "      <th>13</th>\n",
        "      <td> 1</td>\n",
        "      <td> 0</td>\n",
        "      <td> 0.222</td>\n",
        "      <td> 1.0</td>\n",
        "      <td> 1</td>\n",
        "      <td> 1</td>\n",
        "      <td> 0</td>\n",
        "    </tr>\n",
        "    <tr>\n",
        "      <th>14</th>\n",
        "      <td> 1</td>\n",
        "      <td> 0</td>\n",
        "      <td> 0.111</td>\n",
        "      <td> 1.0</td>\n",
        "      <td> 0</td>\n",
        "      <td> 0</td>\n",
        "      <td> 0</td>\n",
        "    </tr>\n",
        "    <tr>\n",
        "      <th>15</th>\n",
        "      <td> 1</td>\n",
        "      <td> 0</td>\n",
        "      <td> 0.111</td>\n",
        "      <td> 1.0</td>\n",
        "      <td> 1</td>\n",
        "      <td> 1</td>\n",
        "      <td> 0</td>\n",
        "    </tr>\n",
        "    <tr>\n",
        "      <th>16</th>\n",
        "      <td> 1</td>\n",
        "      <td> 0</td>\n",
        "      <td> 0.111</td>\n",
        "      <td> 1.0</td>\n",
        "      <td> 0</td>\n",
        "      <td> 1</td>\n",
        "      <td> 0</td>\n",
        "    </tr>\n",
        "  </tbody>\n",
        "</table>\n",
        "</div>"
       ],
       "output_type": "display_data",
       "text": [
        "                      Fragment normalized rank  Number of fragments  \\\n",
        "PDBID UNBOUND_RESNUM                                                  \n",
        "1AWR  2                                      1                    0   \n",
        "      13                                     1                    0   \n",
        "      14                                     1                    0   \n",
        "      15                                     1                    0   \n",
        "      16                                     1                    0   \n",
        "\n",
        "                      Conservation score  Normalized pocket rank  AA polar  \\\n",
        "PDBID UNBOUND_RESNUM                                                         \n",
        "1AWR  2                            0.889                     0.5         0   \n",
        "      13                           0.222                     1.0         1   \n",
        "      14                           0.111                     1.0         0   \n",
        "      15                           0.111                     1.0         1   \n",
        "      16                           0.111                     1.0         0   \n",
        "\n",
        "                      AA hydrophobic  ALASCAN_DDG  \n",
        "PDBID UNBOUND_RESNUM                               \n",
        "1AWR  2                            0            0  \n",
        "      13                           1            0  \n",
        "      14                           0            0  \n",
        "      15                           1            0  \n",
        "      16                           1            0  "
       ]
      }
     ],
     "prompt_number": 6
    },
    {
     "cell_type": "code",
     "collapsed": false,
     "input": [
      "unbound_feature_data = unbound_data.ix[:,:-1]"
     ],
     "language": "python",
     "metadata": {},
     "outputs": [],
     "prompt_number": 7
    },
    {
     "cell_type": "code",
     "collapsed": false,
     "input": [
      "unbound_ddg_data = unbound_data.ix[:,-1]"
     ],
     "language": "python",
     "metadata": {},
     "outputs": [],
     "prompt_number": 8
    },
    {
     "cell_type": "heading",
     "level": 2,
     "metadata": {},
     "source": [
      "Setup learning:"
     ]
    },
    {
     "cell_type": "markdown",
     "metadata": {},
     "source": [
      "### Training on *bound* data set:"
     ]
    },
    {
     "cell_type": "markdown",
     "metadata": {},
     "source": [
      "Use the bound feature array as $X$, our feature data, and scale it such that each feature has $\\mu = 0$ and $\\sigma^2 = 1$"
     ]
    },
    {
     "cell_type": "code",
     "collapsed": false,
     "input": [
      "dfeat = bound_feature_data.values\n",
      "X = preprocessing.scale(dfeat)"
     ],
     "language": "python",
     "metadata": {},
     "outputs": [],
     "prompt_number": 9
    },
    {
     "cell_type": "code",
     "collapsed": false,
     "input": [
      "scaled_feature_data = pd.DataFrame(\n",
      "                                   data=preprocessing.scale(bound_feature_data),\n",
      "                                   index=bound_feature_data.index,\n",
      "                                   columns=bound_feature_data.columns,\n",
      "                                   )\n",
      "feature_names = scaled_feature_data.columns.tolist()\n",
      "scaled_feature_data.describe()[:3]"
     ],
     "language": "python",
     "metadata": {},
     "outputs": [
      {
       "html": [
        "<div style=\"max-height:1000px;max-width:1500px;overflow:auto;\">\n",
        "<table border=\"1\" class=\"dataframe\">\n",
        "  <thead>\n",
        "    <tr style=\"text-align: right;\">\n",
        "      <th></th>\n",
        "      <th>Fragment normalized rank</th>\n",
        "      <th>Number of fragments</th>\n",
        "      <th>Conservation score</th>\n",
        "      <th>Normalized pocket rank</th>\n",
        "      <th>AA polar</th>\n",
        "      <th>AA hydrophobic</th>\n",
        "    </tr>\n",
        "  </thead>\n",
        "  <tbody>\n",
        "    <tr>\n",
        "      <th>count</th>\n",
        "      <td> 6.507000e+03</td>\n",
        "      <td> 6.507000e+03</td>\n",
        "      <td> 6.507000e+03</td>\n",
        "      <td> 6.507000e+03</td>\n",
        "      <td> 6.507000e+03</td>\n",
        "      <td> 6.507000e+03</td>\n",
        "    </tr>\n",
        "    <tr>\n",
        "      <th>mean</th>\n",
        "      <td>-4.072080e-15</td>\n",
        "      <td> 8.971155e-15</td>\n",
        "      <td> 1.924219e-14</td>\n",
        "      <td>-1.776357e-15</td>\n",
        "      <td>-1.382020e-16</td>\n",
        "      <td>-1.339024e-16</td>\n",
        "    </tr>\n",
        "    <tr>\n",
        "      <th>std</th>\n",
        "      <td> 1.000077e+00</td>\n",
        "      <td> 1.000077e+00</td>\n",
        "      <td> 1.000077e+00</td>\n",
        "      <td> 1.000077e+00</td>\n",
        "      <td> 1.000077e+00</td>\n",
        "      <td> 1.000077e+00</td>\n",
        "    </tr>\n",
        "  </tbody>\n",
        "</table>\n",
        "</div>"
       ],
       "output_type": "pyout",
       "prompt_number": 10,
       "text": [
        "       Fragment normalized rank  Number of fragments  Conservation score  \\\n",
        "count              6.507000e+03         6.507000e+03        6.507000e+03   \n",
        "mean              -4.072080e-15         8.971155e-15        1.924219e-14   \n",
        "std                1.000077e+00         1.000077e+00        1.000077e+00   \n",
        "\n",
        "       Normalized pocket rank      AA polar  AA hydrophobic  \n",
        "count            6.507000e+03  6.507000e+03    6.507000e+03  \n",
        "mean            -1.776357e-15 -1.382020e-16   -1.339024e-16  \n",
        "std              1.000077e+00  1.000077e+00    1.000077e+00  "
       ]
      }
     ],
     "prompt_number": 10
    },
    {
     "cell_type": "markdown",
     "metadata": {},
     "source": [
      "Load $\\Delta\\Delta G$ values for all residues in the bound set, and define binary classification (`y`) as \"binder\" when a residue has $\\Delta\\Delta G > 0$:"
     ]
    },
    {
     "cell_type": "code",
     "collapsed": false,
     "input": [
      "#ddgs = np.array(loadtxt('boundRes.ddg.txt', skiprows=1, usecols=[3]))\n",
      "ddgs = bound_ddg_data.values\n",
      "y = ddgs > 0"
     ],
     "language": "python",
     "metadata": {},
     "outputs": [],
     "prompt_number": 11
    },
    {
     "cell_type": "markdown",
     "metadata": {},
     "source": [
      "Load a list of PDB IDs for each of the samples in the data set, i.e. with length the same as `y`. This is used later in `LeaveOneLabelOut` cross-validation, to make sure that all the residues from any one protein are in the same subset of the samples (i.e. fold)."
     ]
    },
    {
     "cell_type": "code",
     "collapsed": false,
     "input": [
      "pdbs = bound_data.index.get_level_values(0)"
     ],
     "language": "python",
     "metadata": {},
     "outputs": [],
     "prompt_number": 49
    },
    {
     "cell_type": "code",
     "collapsed": false,
     "input": [
      "#mat_header = !head -1 boundMat.svmlight.txt\n",
      "#feature_names = [re.sub(\"([A-Z])\",\" \\g<0>\", f[2:]) for f in mat_header[0].split()[1:]]\n",
      "print feature_names"
     ],
     "language": "python",
     "metadata": {},
     "outputs": [
      {
       "output_type": "stream",
       "stream": "stdout",
       "text": [
        "['Fragment normalized rank', 'Number of fragments', 'Conservation score', 'Normalized pocket rank', 'AA polar', 'AA hydrophobic']\n"
       ]
      }
     ],
     "prompt_number": 50
    },
    {
     "cell_type": "code",
     "collapsed": false,
     "input": [
      "assert len(y) == X.shape[0]"
     ],
     "language": "python",
     "metadata": {},
     "outputs": [],
     "prompt_number": 51
    },
    {
     "cell_type": "markdown",
     "metadata": {},
     "source": [
      "For **testing only**, reduce the size of data set:"
     ]
    },
    {
     "cell_type": "code",
     "collapsed": false,
     "input": [
      "X = X[:1000]\n",
      "y = y[:1000]\n",
      "pdbs = pdbs[:1000]"
     ],
     "language": "python",
     "metadata": {},
     "outputs": []
    },
    {
     "cell_type": "markdown",
     "metadata": {},
     "source": [
      "## ROC curves of different classification configs"
     ]
    },
    {
     "cell_type": "markdown",
     "metadata": {},
     "source": [
      "### AUC and feature weight over all features, using cross-validation data"
     ]
    },
    {
     "cell_type": "markdown",
     "metadata": {},
     "source": [
      "Start by defining a K-fold partition of the data, plus a SV classifier. \n",
      "The partition can be either a random partition, a random stratified partition, or by label.\n",
      "\n",
      "In our case, we use 4-fold leave-one-label-out cross-validation. \n",
      "This means we divide the data set of residues into 4 disjoint subsets, such that all the residues of any one receptor are in the same subset. \n",
      "The subsets are roughly similar in size, but cannot be guaranteed to be an equal partition of the data.\n",
      "\n",
      "The partition is accomplished by assigning an integer label to each residue that is the ASCII value of that residue's PDB ID, modulo the number of subsets we want (in our case, 4). \n",
      "The ASCII value of a string is the sum of ASCII numbers of each of its characters. \n",
      "Therefore, all residues of the same receptor will have the same PDB ID, hence the same ASCII value, hence the same label."
     ]
    },
    {
     "cell_type": "code",
     "collapsed": false,
     "input": [
      "n_samples, n_features = X.shape\n",
      "\n",
      "# Initialize classifier with crossvalidation\n",
      "k_folds = 4\n",
      "\n",
      "#cv = KFold(len(y), k=k_folds)\n",
      "#cv = StratifiedKFold(y, k=k_folds)\n",
      "\n",
      "hash_to_k = lambda s: (sum(ord(c) for c in hashlib.sha1(s).hexdigest()) % k_folds)\n",
      "pdb_labels = np.array([hash_to_k(s) for s in pdbs])\n",
      "cv = LeaveOneLabelOut(labels=pdb_labels)\n",
      "\n",
      "classifier = svm.SVC(kernel='linear', probability=True, class_weight='auto')"
     ],
     "language": "python",
     "metadata": {},
     "outputs": [],
     "prompt_number": 52
    },
    {
     "cell_type": "markdown",
     "metadata": {},
     "source": [
      "Here we calculate performance statistics of the classifier, such that for each of the labels we defined above, we:\n",
      "\n",
      "1. Train (or fit) the classifier on other labels, and record the feature weights for the trained model.\n",
      "2. Predict the likelihood of residues from the training set (i.e. other labels) to be binders, and from the test set (the current label).\n",
      "3. Using these predictions, calculate ROC curves for the training and test sets, and record the AUC for each of them.\n",
      "\n",
      "Finally, print all statistics detailed above in a table, where each row represents one label. \n",
      "Additionally, print mean values for all columns (feature weights, AUCs)."
     ]
    },
    {
     "cell_type": "code",
     "collapsed": false,
     "input": [
      "feat_weights = np.zeros((len(cv), n_features))\n",
      "test_aucs = np.zeros(len(cv))\n",
      "train_aucs = np.zeros(len(cv))\n",
      "\n",
      "#clf_table = Texttable(max_width=160)\n",
      "#clf_table.set_deco(Texttable.HEADER | Texttable.VLINES)\n",
      "#clf_table.set_cols_dtype(list('t' + 'a'*n_features + 'cc'))\n",
      "#clf_table.set_cols_align(list('l' + 'c'*n_features + 'cc'))\n",
      "#clf_table.set_precision(4)\n",
      "#clf_table.header(['CV subset'] + feature_names + ['AUC (training)', 'AUC (testing)'])\n",
      "\n",
      "mean_tpr = 0.0\n",
      "mean_tpr_train = 0.0\n",
      "fpr_grid = np.linspace(0, 1, 100)\n",
      "all_tpr = []\n",
      "\n",
      "print \"Calculating CV: \",\n",
      "for i, (train, test) in enumerate(cv):\n",
      "    print i, #np.c_[y[train], X_c[train,:]]\n",
      "    classifier.fit(X[train,:], y[train])\n",
      "    feat_weights[i] = classifier.coef_\n",
      "    \n",
      "    # Test on the training set\n",
      "    tr_probas_ = classifier.predict_proba(X[train,:])\n",
      "    tr_fpr, tr_tpr, tr_thresholds = roc_curve(y[train], tr_probas_[:,1])\n",
      "    train_aucs[i] = auc(tr_fpr, tr_tpr)\n",
      "    mean_tpr_train += interp(fpr_grid, tr_fpr, tr_tpr, left=0, right=1)\n",
      "    \n",
      "    #Test on the test set\n",
      "    probas_ = classifier.predict_proba(X[test,:])\n",
      "    # Compute ROC curve and area the curve\n",
      "    fpr, tpr, thresholds = roc_curve(y[test], probas_[:, 1])\n",
      "    test_aucs[i] = auc(fpr, tpr)\n",
      "    mean_tpr += interp(fpr_grid, fpr, tpr, left=0, right=1)\n",
      "\n",
      "    #clf_table.add_row([\"CV %d\" % i] + feat_weights[i].tolist() + [train_aucs[i], test_aucs[i]])\n",
      "\n",
      "print 'Done.'\n",
      "stats = np.c_[feat_weights, train_aucs, test_aucs]\n",
      "cv_names = [['CV%d'%i] for i in range(len(cv))]\n",
      "#for i in range(len(cv)):\n",
      "#    clf_table.add_row(cv_names[i] + stats[i].tolist())\n",
      "#clf_table.add_row(['Mean'] + stats.mean(axis=0).tolist())\n",
      "\n",
      "mean_tpr /= len(cv)\n",
      "mean_tpr[-1] = 1.0\n",
      "mean_auc = auc(fpr_grid, mean_tpr)\n",
      "\n",
      "mean_tpr_train /= len(cv)\n",
      "mean_tpr_train[-1] = 1.0\n",
      "mean_auc_train = auc(fpr_grid, mean_tpr_train)\n",
      "#print \n",
      "#print clf_table.draw()"
     ],
     "language": "python",
     "metadata": {},
     "outputs": [
      {
       "output_type": "stream",
       "stream": "stdout",
       "text": [
        "Calculating CV:  0 "
       ]
      },
      {
       "output_type": "stream",
       "stream": "stdout",
       "text": [
        "1 "
       ]
      },
      {
       "output_type": "stream",
       "stream": "stdout",
       "text": [
        "2 "
       ]
      },
      {
       "output_type": "stream",
       "stream": "stdout",
       "text": [
        "3 "
       ]
      },
      {
       "output_type": "stream",
       "stream": "stdout",
       "text": [
        "Done.\n"
       ]
      }
     ],
     "prompt_number": 53
    },
    {
     "cell_type": "code",
     "collapsed": false,
     "input": [
      "t = pd.DataFrame(stats, columns=feature_names + ['AUC (training)', 'AUC (testing)'], index=['CV%d' % i for i in range(k_folds)])\n",
      "#display(t.append(t.describe()))\n",
      "display(t.ix[:,:6].abs())\n",
      "\n",
      "tbl_svm_coefs = t.append(t.describe().ix[1:3,:])\n",
      "\n",
      "display(tbl_svm_coefs)\n",
      "tbl_svm_coefs.to_csv(os.path.join(THESIS_SRC, '_tables', 'table-svm-coefs.csv'), float_format='%4.2f')\n",
      "#display(t.describe())"
     ],
     "language": "python",
     "metadata": {},
     "outputs": [
      {
       "html": [
        "<div style=\"max-height:1000px;max-width:1500px;overflow:auto;\">\n",
        "<table border=\"1\" class=\"dataframe\">\n",
        "  <thead>\n",
        "    <tr style=\"text-align: right;\">\n",
        "      <th></th>\n",
        "      <th>Fragment normalized rank</th>\n",
        "      <th>Number of fragments</th>\n",
        "      <th>Conservation score</th>\n",
        "      <th>Normalized pocket rank</th>\n",
        "      <th>AA polar</th>\n",
        "      <th>AA hydrophobic</th>\n",
        "    </tr>\n",
        "  </thead>\n",
        "  <tbody>\n",
        "    <tr>\n",
        "      <th>CV0</th>\n",
        "      <td> 0.800446</td>\n",
        "      <td> 0.040822</td>\n",
        "      <td> 0.110740</td>\n",
        "      <td> 0.048769</td>\n",
        "      <td> 0.048114</td>\n",
        "      <td> 0.058153</td>\n",
        "    </tr>\n",
        "    <tr>\n",
        "      <th>CV1</th>\n",
        "      <td> 0.767939</td>\n",
        "      <td> 0.047672</td>\n",
        "      <td> 0.171607</td>\n",
        "      <td> 0.041215</td>\n",
        "      <td> 0.057734</td>\n",
        "      <td> 0.058684</td>\n",
        "    </tr>\n",
        "    <tr>\n",
        "      <th>CV2</th>\n",
        "      <td> 0.825287</td>\n",
        "      <td> 0.046452</td>\n",
        "      <td> 0.057251</td>\n",
        "      <td> 0.017668</td>\n",
        "      <td> 0.033841</td>\n",
        "      <td> 0.032495</td>\n",
        "    </tr>\n",
        "    <tr>\n",
        "      <th>CV3</th>\n",
        "      <td> 0.765794</td>\n",
        "      <td> 0.057260</td>\n",
        "      <td> 0.148186</td>\n",
        "      <td> 0.040045</td>\n",
        "      <td> 0.041470</td>\n",
        "      <td> 0.051107</td>\n",
        "    </tr>\n",
        "  </tbody>\n",
        "</table>\n",
        "</div>"
       ],
       "output_type": "display_data",
       "text": [
        "     Fragment normalized rank  Number of fragments  Conservation score  \\\n",
        "CV0                  0.800446             0.040822            0.110740   \n",
        "CV1                  0.767939             0.047672            0.171607   \n",
        "CV2                  0.825287             0.046452            0.057251   \n",
        "CV3                  0.765794             0.057260            0.148186   \n",
        "\n",
        "     Normalized pocket rank  AA polar  AA hydrophobic  \n",
        "CV0                0.048769  0.048114        0.058153  \n",
        "CV1                0.041215  0.057734        0.058684  \n",
        "CV2                0.017668  0.033841        0.032495  \n",
        "CV3                0.040045  0.041470        0.051107  "
       ]
      },
      {
       "html": [
        "<div style=\"max-height:1000px;max-width:1500px;overflow:auto;\">\n",
        "<table border=\"1\" class=\"dataframe\">\n",
        "  <thead>\n",
        "    <tr style=\"text-align: right;\">\n",
        "      <th></th>\n",
        "      <th>Fragment normalized rank</th>\n",
        "      <th>Number of fragments</th>\n",
        "      <th>Conservation score</th>\n",
        "      <th>Normalized pocket rank</th>\n",
        "      <th>AA polar</th>\n",
        "      <th>AA hydrophobic</th>\n",
        "      <th>AUC (training)</th>\n",
        "      <th>AUC (testing)</th>\n",
        "    </tr>\n",
        "  </thead>\n",
        "  <tbody>\n",
        "    <tr>\n",
        "      <th>CV0</th>\n",
        "      <td>-0.800446</td>\n",
        "      <td> 0.040822</td>\n",
        "      <td> 0.110740</td>\n",
        "      <td>-0.048769</td>\n",
        "      <td> 0.048114</td>\n",
        "      <td>-0.058153</td>\n",
        "      <td> 0.808511</td>\n",
        "      <td> 0.770940</td>\n",
        "    </tr>\n",
        "    <tr>\n",
        "      <th>CV1</th>\n",
        "      <td>-0.767939</td>\n",
        "      <td> 0.047672</td>\n",
        "      <td> 0.171607</td>\n",
        "      <td>-0.041215</td>\n",
        "      <td> 0.057734</td>\n",
        "      <td>-0.058684</td>\n",
        "      <td> 0.800412</td>\n",
        "      <td> 0.807151</td>\n",
        "    </tr>\n",
        "    <tr>\n",
        "      <th>CV2</th>\n",
        "      <td>-0.825287</td>\n",
        "      <td> 0.046452</td>\n",
        "      <td> 0.057251</td>\n",
        "      <td>-0.017668</td>\n",
        "      <td> 0.033841</td>\n",
        "      <td>-0.032495</td>\n",
        "      <td> 0.792242</td>\n",
        "      <td> 0.797254</td>\n",
        "    </tr>\n",
        "    <tr>\n",
        "      <th>CV3</th>\n",
        "      <td>-0.765794</td>\n",
        "      <td> 0.057260</td>\n",
        "      <td> 0.148186</td>\n",
        "      <td>-0.040045</td>\n",
        "      <td> 0.041470</td>\n",
        "      <td>-0.051107</td>\n",
        "      <td> 0.794353</td>\n",
        "      <td> 0.817405</td>\n",
        "    </tr>\n",
        "    <tr>\n",
        "      <th>mean</th>\n",
        "      <td>-0.789867</td>\n",
        "      <td> 0.048051</td>\n",
        "      <td> 0.121946</td>\n",
        "      <td>-0.036924</td>\n",
        "      <td> 0.045290</td>\n",
        "      <td>-0.050110</td>\n",
        "      <td> 0.798879</td>\n",
        "      <td> 0.798187</td>\n",
        "    </tr>\n",
        "    <tr>\n",
        "      <th>std</th>\n",
        "      <td> 0.028442</td>\n",
        "      <td> 0.006825</td>\n",
        "      <td> 0.049886</td>\n",
        "      <td> 0.013407</td>\n",
        "      <td> 0.010141</td>\n",
        "      <td> 0.012240</td>\n",
        "      <td> 0.007295</td>\n",
        "      <td> 0.019941</td>\n",
        "    </tr>\n",
        "  </tbody>\n",
        "</table>\n",
        "</div>"
       ],
       "output_type": "display_data",
       "text": [
        "      Fragment normalized rank  Number of fragments  Conservation score  \\\n",
        "CV0                  -0.800446             0.040822            0.110740   \n",
        "CV1                  -0.767939             0.047672            0.171607   \n",
        "CV2                  -0.825287             0.046452            0.057251   \n",
        "CV3                  -0.765794             0.057260            0.148186   \n",
        "mean                 -0.789867             0.048051            0.121946   \n",
        "std                   0.028442             0.006825            0.049886   \n",
        "\n",
        "      Normalized pocket rank  AA polar  AA hydrophobic  AUC (training)  \\\n",
        "CV0                -0.048769  0.048114       -0.058153        0.808511   \n",
        "CV1                -0.041215  0.057734       -0.058684        0.800412   \n",
        "CV2                -0.017668  0.033841       -0.032495        0.792242   \n",
        "CV3                -0.040045  0.041470       -0.051107        0.794353   \n",
        "mean               -0.036924  0.045290       -0.050110        0.798879   \n",
        "std                 0.013407  0.010141        0.012240        0.007295   \n",
        "\n",
        "      AUC (testing)  \n",
        "CV0        0.770940  \n",
        "CV1        0.807151  \n",
        "CV2        0.797254  \n",
        "CV3        0.817405  \n",
        "mean       0.798187  \n",
        "std        0.019941  "
       ]
      }
     ],
     "prompt_number": 54
    },
    {
     "cell_type": "code",
     "collapsed": false,
     "input": [
      "s = pd.DataFrame(stats[:,:-2], columns=feature_names)\n",
      "display(s)"
     ],
     "language": "python",
     "metadata": {},
     "outputs": [
      {
       "html": [
        "<div style=\"max-height:1000px;max-width:1500px;overflow:auto;\">\n",
        "<table border=\"1\" class=\"dataframe\">\n",
        "  <thead>\n",
        "    <tr style=\"text-align: right;\">\n",
        "      <th></th>\n",
        "      <th>Fragment normalized rank</th>\n",
        "      <th>Number of fragments</th>\n",
        "      <th>Conservation score</th>\n",
        "      <th>Normalized pocket rank</th>\n",
        "      <th>AA polar</th>\n",
        "      <th>AA hydrophobic</th>\n",
        "    </tr>\n",
        "  </thead>\n",
        "  <tbody>\n",
        "    <tr>\n",
        "      <th>0</th>\n",
        "      <td>-0.800446</td>\n",
        "      <td> 0.040822</td>\n",
        "      <td> 0.110740</td>\n",
        "      <td>-0.048769</td>\n",
        "      <td> 0.048114</td>\n",
        "      <td>-0.058153</td>\n",
        "    </tr>\n",
        "    <tr>\n",
        "      <th>1</th>\n",
        "      <td>-0.767939</td>\n",
        "      <td> 0.047672</td>\n",
        "      <td> 0.171607</td>\n",
        "      <td>-0.041215</td>\n",
        "      <td> 0.057734</td>\n",
        "      <td>-0.058684</td>\n",
        "    </tr>\n",
        "    <tr>\n",
        "      <th>2</th>\n",
        "      <td>-0.825287</td>\n",
        "      <td> 0.046452</td>\n",
        "      <td> 0.057251</td>\n",
        "      <td>-0.017668</td>\n",
        "      <td> 0.033841</td>\n",
        "      <td>-0.032495</td>\n",
        "    </tr>\n",
        "    <tr>\n",
        "      <th>3</th>\n",
        "      <td>-0.765794</td>\n",
        "      <td> 0.057260</td>\n",
        "      <td> 0.148186</td>\n",
        "      <td>-0.040045</td>\n",
        "      <td> 0.041470</td>\n",
        "      <td>-0.051107</td>\n",
        "    </tr>\n",
        "  </tbody>\n",
        "</table>\n",
        "</div>"
       ],
       "output_type": "display_data",
       "text": [
        "   Fragment normalized rank  Number of fragments  Conservation score  \\\n",
        "0                 -0.800446             0.040822            0.110740   \n",
        "1                 -0.767939             0.047672            0.171607   \n",
        "2                 -0.825287             0.046452            0.057251   \n",
        "3                 -0.765794             0.057260            0.148186   \n",
        "\n",
        "   Normalized pocket rank  AA polar  AA hydrophobic  \n",
        "0               -0.048769  0.048114       -0.058153  \n",
        "1               -0.041215  0.057734       -0.058684  \n",
        "2               -0.017668  0.033841       -0.032495  \n",
        "3               -0.040045  0.041470       -0.051107  "
       ]
      }
     ],
     "prompt_number": 55
    },
    {
     "cell_type": "markdown",
     "metadata": {},
     "source": [
      "### Compare classifiers *trained* on different feature sets:"
     ]
    },
    {
     "cell_type": "markdown",
     "metadata": {},
     "source": [
      "Set up different configurations:"
     ]
    },
    {
     "cell_type": "code",
     "collapsed": false,
     "input": [
      "ALL_FEATS = 'All features'\n",
      "DELTA_CASTP = '$\\Delta$ CASTp'\n",
      "DELTA_FTMAP = '$\\Delta$ FTMap'\n",
      "DELTA_FTMAP_CASTP = '$\\Delta$ FTMap $\\Delta$ CASTp'\n",
      "PARTIAL_FTMAP = 'FTMap'\n",
      "PARTIAL_CASTP_CONSURF = 'CASTp + ConSurf'\n",
      "PARTIAL_CASTP = 'CASTp'\n",
      "PARTIAL_POLARITY = 'Polarity'\n",
      "PARTIAL_FTMAP_CONSURF = 'FTMap + ConSurf'\n",
      "    \n",
      "configs = (\n",
      "            ALL_FEATS, \n",
      "            DELTA_CASTP, \n",
      "            DELTA_FTMAP, \n",
      "            DELTA_FTMAP_CASTP, \n",
      "            PARTIAL_FTMAP, \n",
      "            #PARTIAL_FTMAP_CONSURF,\n",
      "            PARTIAL_CASTP, \n",
      "            #PARTIAL_CASTP_CONSURF,\n",
      "            #PARTIAL_POLARITY,\n",
      "          )\n",
      "config_slices = (\n",
      "            X, \n",
      "            X[:,(0,1,2,4,5)], \n",
      "            X[:,2:],  \n",
      "            X[:,(2,4,5)],  \n",
      "            X[:,:2],\n",
      "            #X[:,:3],\n",
      "            X[:,(3,)],\n",
      "            #X[:,(2,3)],\n",
      "            #X[:,(4,)],\n",
      "            )\n",
      "configs_data = dict(zip(configs, config_slices))"
     ],
     "language": "python",
     "metadata": {},
     "outputs": [],
     "prompt_number": 56
    },
    {
     "cell_type": "markdown",
     "metadata": {},
     "source": [
      "1. Iterate configurations, and for each fold in the CV partifion, fit the model on the training set and test on both.\n",
      "2. Collect the data and present mean AUCs for each config in a table.\n",
      "3. Plot mean ROC curves of the different configs."
     ]
    },
    {
     "cell_type": "code",
     "collapsed": false,
     "input": [
      "import pickle"
     ],
     "language": "python",
     "metadata": {},
     "outputs": [],
     "prompt_number": 57
    },
    {
     "cell_type": "code",
     "collapsed": false,
     "input": [
      "CLASSIFIERS_PKL_FILENAME = 'clfs.pkl'\n",
      "if os.path.isfile(CLASSIFIERS_PKL_FILENAME):\n",
      "    with open(CLASSIFIERS_PKL_FILENAME) as fd:\n",
      "        clfs = pickle.load(fd)\n",
      "else:\n",
      "    clfs = {}\n",
      "    for i, c in enumerate(configs):\n",
      "        X_c = configs_data[c]\n",
      "        clfs[i] = {}\n",
      "        display(Latex(\"Fitting SVCs on feature set: %s\" % c))\n",
      "        print 'CV:',\n",
      "        for j, (train, test) in enumerate(cv):\n",
      "            print j,\n",
      "            clfs[i][j] = svm.SVC(kernel='linear', \n",
      "                                        probability=True, \n",
      "                                        class_weight='auto',\n",
      "                                    ).fit(X_c[train, :], y[train])\n",
      "        print \"\"\n",
      "    pickle.dump(clfs, open(CLASSIFIERS_PKL_FILENAME, 'w'))"
     ],
     "language": "python",
     "metadata": {},
     "outputs": [],
     "prompt_number": 58
    },
    {
     "cell_type": "code",
     "collapsed": false,
     "input": [
      "rcParams['figure.figsize'] = (12.0, 9.0)\n",
      "n_configs = len(configs)\n",
      "test_aucs = np.zeros(n_configs)\n",
      "train_aucs = np.zeros(n_configs)\n",
      "\n",
      "clf_table = Texttable()\n",
      "clf_table.set_deco(Texttable.HEADER | Texttable.VLINES)\n",
      "clf_table.set_cols_dtype(list('tff'))\n",
      "clf_table.set_cols_align(list('lcc'))\n",
      "clf_table.header(['Classifier', 'Mean AUC (training)', 'Mean AUC (testing)'])\n",
      "\n",
      "for i, c in enumerate(configs):\n",
      "    X_c = configs_data[c]\n",
      "\n",
      "    mean_tpr = 0.0\n",
      "    mean_tpr_train = 0.0\n",
      "    fpr_grid = np.linspace(0, 1, 100)\n",
      "    all_tpr = []\n",
      "    \n",
      "    display(Latex(\"Calculating CVs on feature set: %s\" % c))\n",
      "    for j, (train, test) in enumerate(cv):\n",
      "        print j, #np.c_[y[train], X_c[train,:]]\n",
      "        #classifier.fit(X_c[train,:], y[train])\n",
      "        svc = clfs[i][j]\n",
      "        probas_ = svc.predict_proba(X_c[test,:])\n",
      "        # Compute ROC curve and area the curve\n",
      "        fpr, tpr, thresholds = roc_curve(y[test], probas_[:, 1])\n",
      "        mean_tpr += interp(fpr_grid, fpr, tpr, left=0, right=1)\n",
      "        #mean_tpr[0] = 0.0\n",
      "        \n",
      "        tr_probas_ = svc.predict_proba(X_c[train,:])\n",
      "        tr_fpr, tr_tpr, tr_thresholds = roc_curve(y[train], tr_probas_[:,1])\n",
      "        mean_tpr_train += interp(fpr_grid, tr_fpr, tr_tpr, left=0, right=1)\n",
      "        #mean_tpr_train[0] = 0.0\n",
      "        \n",
      "        #roc_auc = auc(fpr, tpr)\n",
      "        #pl.plot(fpr, tpr, lw=1, label='ROC fold %d (area = %0.2f)' % (i, roc_auc))\n",
      "    \n",
      "    print 'Done.'\n",
      "    \n",
      "    mean_tpr /= len(cv)\n",
      "    mean_tpr[-1] = 1.0\n",
      "    mean_auc = auc(fpr_grid, mean_tpr)\n",
      "    test_aucs[i] = mean_auc\n",
      "    \n",
      "    pl.plot(fpr_grid, mean_tpr, #'k--',\n",
      "            label='%s (area = %0.2f)' % (c, mean_auc), lw=2)\n",
      "    \n",
      "    mean_tpr_train /= len(cv)\n",
      "    mean_tpr_train[-1] = 1.0\n",
      "    mean_auc_train = auc(fpr_grid, mean_tpr_train)\n",
      "    train_aucs[i] = mean_auc_train\n",
      "    \n",
      "    clf_table.add_row([c, mean_auc_train, mean_auc])\n",
      "    \n",
      "pl.plot([0, 1], [0, 1], '--', color=(0.6, 0.6, 0.6), label='Random')\n",
      "\n",
      "pl.xlim([-0.05, 1.05])\n",
      "pl.ylim([-0.05, 1.05])\n",
      "pl.xlabel('False Positive Rate')\n",
      "pl.ylabel('True Positive Rate')\n",
      "pl.title('Comparison of classifier configurations' + '\\n'+\n",
      "        'Mean ROC curves, performance measured on test set')\n",
      "pl.legend(loc=\"lower right\")\n",
      "\n",
      "print clf_table.draw()\n",
      "\n",
      "pl.show()"
     ],
     "language": "python",
     "metadata": {},
     "outputs": [
      {
       "latex": [
        "Calculating CVs on feature set: All features"
       ],
       "output_type": "display_data",
       "text": [
        "<IPython.core.display.Latex at 0x475d310>"
       ]
      },
      {
       "output_type": "stream",
       "stream": "stdout",
       "text": [
        "0 "
       ]
      },
      {
       "output_type": "stream",
       "stream": "stdout",
       "text": [
        "1 "
       ]
      },
      {
       "output_type": "stream",
       "stream": "stdout",
       "text": [
        "2 "
       ]
      },
      {
       "output_type": "stream",
       "stream": "stdout",
       "text": [
        "3 "
       ]
      },
      {
       "output_type": "stream",
       "stream": "stdout",
       "text": [
        "Done.\n"
       ]
      },
      {
       "latex": [
        "Calculating CVs on feature set: $\\Delta$ CASTp"
       ],
       "output_type": "display_data",
       "text": [
        "<IPython.core.display.Latex at 0x45ce4d0>"
       ]
      },
      {
       "output_type": "stream",
       "stream": "stdout",
       "text": [
        "0 "
       ]
      },
      {
       "output_type": "stream",
       "stream": "stdout",
       "text": [
        "1 "
       ]
      },
      {
       "output_type": "stream",
       "stream": "stdout",
       "text": [
        "2 "
       ]
      },
      {
       "output_type": "stream",
       "stream": "stdout",
       "text": [
        "3 "
       ]
      },
      {
       "output_type": "stream",
       "stream": "stdout",
       "text": [
        "Done.\n"
       ]
      },
      {
       "latex": [
        "Calculating CVs on feature set: $\\Delta$ FTMap"
       ],
       "output_type": "display_data",
       "text": [
        "<IPython.core.display.Latex at 0x4eaa050>"
       ]
      },
      {
       "output_type": "stream",
       "stream": "stdout",
       "text": [
        "0 "
       ]
      },
      {
       "output_type": "stream",
       "stream": "stdout",
       "text": [
        "1 "
       ]
      },
      {
       "output_type": "stream",
       "stream": "stdout",
       "text": [
        "2 "
       ]
      },
      {
       "output_type": "stream",
       "stream": "stdout",
       "text": [
        "3 "
       ]
      },
      {
       "output_type": "stream",
       "stream": "stdout",
       "text": [
        "Done.\n"
       ]
      },
      {
       "latex": [
        "Calculating CVs on feature set: $\\Delta$ FTMap $\\Delta$ CASTp"
       ],
       "output_type": "display_data",
       "text": [
        "<IPython.core.display.Latex at 0x4eaa350>"
       ]
      },
      {
       "output_type": "stream",
       "stream": "stdout",
       "text": [
        "0 "
       ]
      },
      {
       "output_type": "stream",
       "stream": "stdout",
       "text": [
        "1 "
       ]
      },
      {
       "output_type": "stream",
       "stream": "stdout",
       "text": [
        "2 "
       ]
      },
      {
       "output_type": "stream",
       "stream": "stdout",
       "text": [
        "3 "
       ]
      },
      {
       "output_type": "stream",
       "stream": "stdout",
       "text": [
        "Done.\n"
       ]
      },
      {
       "latex": [
        "Calculating CVs on feature set: FTMap"
       ],
       "output_type": "display_data",
       "text": [
        "<IPython.core.display.Latex at 0x4eaa690>"
       ]
      },
      {
       "output_type": "stream",
       "stream": "stdout",
       "text": [
        "0 "
       ]
      },
      {
       "output_type": "stream",
       "stream": "stdout",
       "text": [
        "1 "
       ]
      },
      {
       "output_type": "stream",
       "stream": "stdout",
       "text": [
        "2 "
       ]
      },
      {
       "output_type": "stream",
       "stream": "stdout",
       "text": [
        "3 "
       ]
      },
      {
       "output_type": "stream",
       "stream": "stdout",
       "text": [
        "Done.\n"
       ]
      },
      {
       "latex": [
        "Calculating CVs on feature set: CASTp"
       ],
       "output_type": "display_data",
       "text": [
        "<IPython.core.display.Latex at 0x4eaa9d0>"
       ]
      },
      {
       "output_type": "stream",
       "stream": "stdout",
       "text": [
        "0 "
       ]
      },
      {
       "output_type": "stream",
       "stream": "stdout",
       "text": [
        "1 "
       ]
      },
      {
       "output_type": "stream",
       "stream": "stdout",
       "text": [
        "2 "
       ]
      },
      {
       "output_type": "stream",
       "stream": "stdout",
       "text": [
        "3 "
       ]
      },
      {
       "output_type": "stream",
       "stream": "stdout",
       "text": [
        "Done.\n",
        "         Classifier           | Mean AUC (training) | Mean AUC (testing) \n",
        "==============================+=====================+===================\n",
        "All features                  |        0.799        |       0.798        \n",
        "$\\Delta$ CASTp                |        0.796        |       0.796        \n",
        "$\\Delta$ FTMap                |        0.752        |       0.749        \n",
        "$\\Delta$ FTMap $\\Delta$ CASTp |        0.727        |       0.727        \n",
        "FTMap                         |        0.725        |       0.727        \n",
        "CASTp                         |        0.623        |       0.624        \n"
       ]
      },
      {
       "output_type": "display_data",
       "png": "[encoded data removed]"
      }
     ],
     "prompt_number": 59
    },
    {
     "cell_type": "code",
     "collapsed": false,
     "input": [
      "clf_table.set_deco(Texttable.HEADER | Texttable.VLINES)\n",
      "clf_table.set_chars(['-', ' ', ' ', '='])\n",
      "print clf_table.draw()"
     ],
     "language": "python",
     "metadata": {},
     "outputs": [
      {
       "output_type": "stream",
       "stream": "stdout",
       "text": [
        "         Classifier             Mean AUC (training)   Mean AUC (testing) \n",
        "============================== ===================== ===================\n",
        "All features                           0.799                0.798        \n",
        "$\\Delta$ CASTp                         0.796                0.796        \n",
        "$\\Delta$ FTMap                         0.752                0.749        \n",
        "$\\Delta$ FTMap $\\Delta$ CASTp          0.727                0.727        \n",
        "FTMap                                  0.725                0.727        \n",
        "CASTp                                  0.623                0.624        \n"
       ]
      }
     ],
     "prompt_number": 60
    },
    {
     "cell_type": "heading",
     "level": 2,
     "metadata": {},
     "source": [
      "Recursive feature elimination"
     ]
    },
    {
     "cell_type": "code",
     "collapsed": false,
     "input": [
      "from sklearn.feature_selection import RFECV, RFE"
     ],
     "language": "python",
     "metadata": {},
     "outputs": []
    },
    {
     "cell_type": "code",
     "collapsed": false,
     "input": [
      "!head -1 unboundMat"
     ],
     "language": "python",
     "metadata": {},
     "outputs": []
    },
    {
     "cell_type": "code",
     "collapsed": false,
     "input": [
      "rfe = RFE(estimator=classifier, n_features_to_select=3, step=1)\n",
      "rfe.fit(X, y)"
     ],
     "language": "python",
     "metadata": {},
     "outputs": []
    },
    {
     "cell_type": "code",
     "collapsed": false,
     "input": [
      "print rfe.support_\n",
      "print rfe.ranking_"
     ],
     "language": "python",
     "metadata": {},
     "outputs": []
    },
    {
     "cell_type": "code",
     "collapsed": false,
     "input": [
      "rfecv = RFECV(classifier, step=1, cv=StratifiedKFold(y, 3),\n",
      "                loss_func=metrics.zero_one)\n",
      "rfecv.fit(X, y)"
     ],
     "language": "python",
     "metadata": {},
     "outputs": []
    },
    {
     "cell_type": "code",
     "collapsed": false,
     "input": [
      "print \"Optimal number of features : %d\" % rfecv.n_features_\n",
      "print \"Support:\", rfecv.support_\n",
      "print \"Feature ranking:\", rfecv.ranking_"
     ],
     "language": "python",
     "metadata": {},
     "outputs": []
    },
    {
     "cell_type": "code",
     "collapsed": false,
     "input": [
      "pl.figure()\n",
      "pl.xlabel(\"Number of features selected\")\n",
      "pl.ylabel(\"Cross validation score (nb of misclassifications)\")\n",
      "pl.plot(xrange(1, len(rfecv.cv_scores_) + 1), rfecv.cv_scores_)\n",
      "pl.show()"
     ],
     "language": "python",
     "metadata": {},
     "outputs": []
    }
   ],
   "metadata": {}
  }
 ]
}
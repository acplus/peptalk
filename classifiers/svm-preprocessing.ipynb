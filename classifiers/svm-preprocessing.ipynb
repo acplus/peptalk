{
 "metadata": {
  "name": "svm-preprocessing"
 },
 "nbformat": 3,
 "nbformat_minor": 0,
 "worksheets": [
  {
   "cells": [
    {
     "cell_type": "heading",
     "level": 1,
     "metadata": {},
     "source": [
      "SVM features: preprocessing"
     ]
    },
    {
     "cell_type": "markdown",
     "metadata": {},
     "source": [
      "In this section we calculate quantitative residue descriptors used later in \n",
      "the SVM classification flow.\n",
      "\n",
      "We start by defining parameters of one PeptiDB entry, for which we calculate \n",
      "all the descriptors. \n",
      "\n",
      "The goal of each section is a function that accepts an AtomGroup object of \n",
      "the receptor (single chain), and optionally other parameters, returning a \n",
      "data frame or series object, with length equal to the number of residues in \n",
      "the receptor, where columns are one or more features of the residues. "
     ]
    },
    {
     "cell_type": "code",
     "collapsed": false,
     "input": [
      "# flag to mark cells that should run only in interactive mode\n",
      "interactive_session = True"
     ],
     "language": "python",
     "metadata": {},
     "outputs": []
    },
    {
     "cell_type": "code",
     "collapsed": false,
     "input": [
      "import pandas as pd\n",
      "import numpy as np\n",
      "import prody\n",
      "prody.confProDy(verbosity='error')\n",
      "\n",
      "import subprocess\n",
      "import tempfile\n",
      "import os, sys, shutil\n",
      "\n",
      "from collections import OrderedDict\n",
      "import itertools"
     ],
     "language": "python",
     "metadata": {},
     "outputs": []
    },
    {
     "cell_type": "code",
     "collapsed": false,
     "input": [
      "import joblib\n",
      "memory = joblib.Memory('cache')"
     ],
     "language": "python",
     "metadata": {},
     "outputs": []
    },
    {
     "cell_type": "code",
     "collapsed": false,
     "input": [
      "j = os.path.join\n",
      "PROJECT_PATH = '/home/assaff/projects/peptalk'\n",
      "\n",
      "DATA_PATH = j(PROJECT_PATH, 'data')\n",
      "PEPTIDB_DATA_PATH = j(DATA_PATH, 'peptiDB')\n",
      "\n",
      "BOUND_DATA_PATH = j(PEPTIDB_DATA_PATH, 'bound')\n",
      "UNBOUND_DATA_PATH = j(PEPTIDB_DATA_PATH, 'unbound')\n",
      "\n",
      "BOUND_PDB_PATH = j(BOUND_DATA_PATH, 'boundSet', 'mainChain')\n",
      "UNBOUND_PDB_PATH = j(UNBOUND_DATA_PATH, 'unboundSet')\n",
      "\n",
      "BOUND_FTMAP_PATH = j(BOUND_DATA_PATH, 'FTMapAnalysis', 'ftmapData')\n",
      "\n",
      "BOUND_CONSURF_PATH = j(BOUND_DATA_PATH, 'ConSurfAnalysis', 'data')"
     ],
     "language": "python",
     "metadata": {},
     "outputs": []
    },
    {
     "cell_type": "markdown",
     "metadata": {},
     "source": [
      "Defining parameters of sample entry:"
     ]
    },
    {
     "cell_type": "code",
     "collapsed": false,
     "input": [
      "pdb_suffix = '.pdb'\n",
      "bound, boundChain, peptideChain = '2P54', 'A', 'B'# '1AWR', 'C', 'I'\n",
      "unbound, unboundChain = '2ALF', 'A'\n",
      "\n",
      "boundPdbFilename = j(BOUND_PDB_PATH, bound+pdb_suffix)\n",
      "unboundPdbFilename = j(UNBOUND_PDB_PATH, bound+pdb_suffix) # Note: using the same PDB id as bound\n",
      "\n",
      "#@memory.cache\n",
      "def parsePDB_cached(filename):\n",
      "    return prody.parsePDB(filename)\n",
      "\n",
      "boundReceptor = parsePDB_cached(boundPdbFilename)\n",
      "unboundReceptor = parsePDB_cached(unboundPdbFilename)"
     ],
     "language": "python",
     "metadata": {},
     "outputs": []
    },
    {
     "cell_type": "code",
     "collapsed": false,
     "input": [
      "mem = joblib.Memory('cache')\n",
      "import naccess\n",
      "\n",
      "class ReceptorData:\n",
      "    \n",
      "    def __init__(self, pdbid, bound=True):\n",
      "        self.pdbid = pdbid.upper()\n",
      "        self.context = 'bound' if bound else 'unbound'\n",
      "        \n",
      "        self.DATA_PATH = j(PEPTIDB_DATA_PATH, self.context)\n",
      "        self.PDB_DATA_PATH = j(self.DATA_PATH, self.context+'Set', 'mainChain' if bound else '')\n",
      "        self.FTMAP_DATA_PATH = j(self.DATA_PATH, 'FTMapAnalysis', 'ftmapData')\n",
      "        self.CONSURF_DATA_PATH = j(self.DATA_PATH, 'ConSurfAnalysis', 'data')\n",
      "        \n",
      "        self.receptor_filename = j(self.PDB_DATA_PATH, '%s.pdb' % self.pdbid)\n",
      "        self.receptor_atoms = prody.parsePDB(self.receptor_filename).protein\n",
      "        \n",
      "        self.receptor_chain = self.receptor_atoms.getHierView()['A']\n",
      "        self.resnum_index = pd.MultiIndex.from_tuples(\n",
      "                            zip(\n",
      "                                [pdbid]*self.receptor_chain.numResidues(),\n",
      "                                self.receptor_chain.ca.getResnums()\n",
      "                            ), \n",
      "                                names = [\n",
      "                                    'PDB identifier', \n",
      "                                    'Residue number',\n",
      "                                        ]\n",
      "                                )\n",
      "        self.df = pd.DataFrame(index=self.resnum_index)\n",
      "        \n",
      "    def conservation(self,):\n",
      "        consurf_pdb_filename = os.path.join(self.CONSURF_DATA_PATH, self.pdbid, 'pdbFILE_view_ConSurf.pdb')\n",
      "        p = prody.parsePDB(consurf_pdb_filename)\n",
      "        return pd.DataFrame(\n",
      "                            p.ca.getBetas(), \n",
      "                            index=self.resnum_index,\n",
      "                            columns=['Conservation-score'],\n",
      "                            )\n",
      "    \n",
      "    def sasa(self,):\n",
      "        rsa = naccess.getResidueSasa(self.receptor_atoms)\n",
      "        return pd.DataFrame(\n",
      "                            rsa.values, \n",
      "                            index=self.resnum_index,\n",
      "                            columns=rsa.columns, \n",
      "                            )\n",
      "    \n",
      "    def data(self,):\n",
      "        feature_generators = OrderedDict(\n",
      "                                     NAccess=self.sasa(),\n",
      "                                     ConSurf=self.conservation(),\n",
      "                                     )\n",
      "        \n",
      "        tuples = list(itertools.chain(*[\n",
      "                     [(prot_name, col_name) for col_name in prot_df.columns.tolist()]\n",
      "                     for prot_name, prot_df in feature_generators.items()\n",
      "                 ]))\n",
      "        idex = pd.MultiIndex.from_tuples(tuples)\n",
      "        return pd.DataFrame(self.df.join(feature_generators.values()).values,\n",
      "                            columns=idex,\n",
      "                            index=self.resnum_index,\n",
      "                            )"
     ],
     "language": "python",
     "metadata": {},
     "outputs": []
    },
    {
     "cell_type": "code",
     "collapsed": false,
     "input": [
      "r=ReceptorData('1AWR', bound=False)\n",
      "r.data().head()"
     ],
     "language": "python",
     "metadata": {},
     "outputs": []
    },
    {
     "cell_type": "heading",
     "level": 2,
     "metadata": {},
     "source": [
      "FTMap-based features"
     ]
    },
    {
     "cell_type": "code",
     "collapsed": false,
     "input": [
      "from scipy.spatial.distance import cdist"
     ],
     "language": "python",
     "metadata": {},
     "outputs": []
    },
    {
     "cell_type": "code",
     "collapsed": false,
     "input": [
      "p = prody.parsePDB(j(BOUND_FTMAP_PATH, '{}.map.clean.pdb'.format(bound)))\n",
      "h=p.getHierView()\n",
      "#list(h.iterSegments())\n",
      "ccls = pd.Series(h.iterChains(), index=range(h.numChains()))"
     ],
     "language": "python",
     "metadata": {},
     "outputs": []
    },
    {
     "cell_type": "code",
     "collapsed": false,
     "input": [
      "def nearby_ccls(chid, resnum, cutoff=4.5):\n",
      "    #dist_matrices = np.array([cdist(res.getCoords(), ccl.getCoords()) for ccl in ccls])\n",
      "    res = boundReceptor.getHierView().getResidue(chid, resnum)\n",
      "    is_near_res = lambda ag: ag.select('same chain as within {} of res'.format(float(cutoff)), \n",
      "                                    res=res) is not None\n",
      "    print ccls.map(is_near_res)\n",
      "    ccls_near = ccls[ccls.map(is_near_res)]#filter(is_near_res, ccls)\n",
      "    return ccls_near#.notnull()\n",
      "    #if ccls_near:\n",
      "    #    return ccls_near[0]\n",
      "    #return None"
     ],
     "language": "python",
     "metadata": {},
     "outputs": []
    },
    {
     "cell_type": "code",
     "collapsed": false,
     "input": [
      "c=nearby_ccls('A', 72)\n",
      "c.index#.notnull()"
     ],
     "language": "python",
     "metadata": {},
     "outputs": []
    },
    {
     "cell_type": "code",
     "collapsed": false,
     "input": [
      "\n",
      "def ccl_rank(chid, resnum):\n",
      "    neigh_ccls = nearby_ccls(chid, resnum)\n",
      "    if not neigh_ccls: return \n",
      "print list(ccls).index(neigh_ccls[0])/float(len(ccls)) # normalized rank\n",
      "print len(neigh_ccls)"
     ],
     "language": "python",
     "metadata": {},
     "outputs": []
    },
    {
     "cell_type": "heading",
     "level": 3,
     "metadata": {},
     "source": [
      "Fragment normalized rank:"
     ]
    },
    {
     "cell_type": "code",
     "collapsed": false,
     "input": [
      "def rank(ccl):\n",
      "    return list(ccls).index(ccl)+1\n",
      "\n",
      "def size(ccl):\n",
      "    return ccl.numResidues()\n",
      "\n",
      "def norm_rank(ccl):\n",
      "    return rank(ccl) / size(ccl)\n",
      "\n",
      "def svm_ftmap_size(ccl):\n",
      "    size_scaled = np.ceil(size(ccl) / float(5))\n",
      "    return min(size_scaled, 4)\n",
      "\n",
      "def svm_ftmap_rank(ccl):\n",
      "    min(rank(ccl), 5)\n",
      "    \n",
      "def svm_ftmap_final_rank(ccl):\n",
      "    return svm_ftmap_rank / float(svm_ftmap_size)\n",
      "\n",
      "def feat_norm_frag_rank(chid, resnum):\n",
      "    ccls = nearby_ccls(chid, resnum)\n",
      "    if ccls:\n",
      "        return svm_ftmap_final_rank(ccls[0])\n",
      "    return 1.0\n"
     ],
     "language": "python",
     "metadata": {},
     "outputs": []
    },
    {
     "cell_type": "markdown",
     "metadata": {},
     "source": [
      "### Num CSs:"
     ]
    },
    {
     "cell_type": "code",
     "collapsed": false,
     "input": [
      "def svm_num_cs(chid, resnum):\n",
      "    ccls = nearby_ccls(chid, resnum)\n",
      "    return min(len(ccls), 5)"
     ],
     "language": "python",
     "metadata": {},
     "outputs": []
    },
    {
     "cell_type": "heading",
     "level": 3,
     "metadata": {},
     "source": [
      "Conservation per residue:"
     ]
    },
    {
     "cell_type": "code",
     "collapsed": false,
     "input": [
      "def getConservationScores(pdbid):\n",
      "    consurf_pdb_filename = os.path.join(BOUND_CONSURF_PATH, pdbid, 'pdbFILE_view_ConSurf.pdb')\n",
      "    p = prody.parsePDB(consurf_pdb_filename)\n",
      "    return p.ca.getBetas()"
     ],
     "language": "python",
     "metadata": {},
     "outputs": []
    },
    {
     "cell_type": "code",
     "collapsed": false,
     "input": [
      "cons=getConservationScores(bound)\n",
      "cons_ser = pd.Series(cons, index=rsa.index)\n",
      "cons_ser.head()\n"
     ],
     "language": "python",
     "metadata": {},
     "outputs": []
    },
    {
     "cell_type": "heading",
     "level": 3,
     "metadata": {},
     "source": [
      "Pocket features:"
     ]
    },
    {
     "cell_type": "code",
     "collapsed": false,
     "input": [
      "fpocket_bin = '/home/assaff/tools/fpocket2/bin/fpocket'"
     ],
     "language": "python",
     "metadata": {},
     "outputs": []
    },
    {
     "cell_type": "code",
     "collapsed": false,
     "input": [
      "memory.cachedir"
     ],
     "language": "python",
     "metadata": {},
     "outputs": []
    },
    {
     "cell_type": "code",
     "collapsed": false,
     "input": [
      "import hashlib"
     ],
     "language": "python",
     "metadata": {},
     "outputs": []
    },
    {
     "cell_type": "code",
     "collapsed": false,
     "input": [
      "from StringIO import StringIO"
     ],
     "language": "python",
     "metadata": {},
     "outputs": []
    },
    {
     "cell_type": "code",
     "collapsed": false,
     "input": [
      "#@memory.cache\n",
      "def fpocket(pdb_filename, \n",
      "            params_dict=dict(),#i=30, m=3.0, M=6.0, A=3, D=1.73, s=2.5, n=3, r=4.5),\n",
      "            ):\n",
      "    fpocket_cachedir = os.path.join(\n",
      "                    memory.cachedir, \n",
      "                    'fpocket_pdb', \n",
      "                    '-'.join('{}{}'.format(k, params_dict[k]) for k in sorted(params_dict.keys()) ),\n",
      "                    #os.path.basename(os.path.dirname(pdb_filename)),\n",
      "                    )\n",
      "    if not os.path.isdir(fpocket_cachedir):\n",
      "        os.makedirs(fpocket_cachedir)\n",
      "        pass\n",
      "    \n",
      "    #print fpocket_cachedir\n",
      "    \n",
      "    cached_filename = os.path.join(fpocket_cachedir, \n",
      "                                   '{digest}-{filename}'.format(\n",
      "                                        filename=os.path.basename(pdb_filename), \n",
      "                                        digest=hashlib.md5(open(pdb_filename).read()).hexdigest(),\n",
      "                                        ),\n",
      "                                    )\n",
      "    print cached_filename\n",
      "    if not os.path.exists(cached_filename):\n",
      "        shutil.copy2(pdb_filename, cached_filename)\n",
      "    \n",
      "    cached_filename_base = os.path.splitext(os.path.basename(cached_filename))[0]\n",
      "    result_dirname = os.path.join(fpocket_cachedir, cached_filename_base+'_out')\n",
      "    \n",
      "    if not os.path.exists(result_dirname):\n",
      "        subprocess.Popen([fpocket_bin, '-f', cached_filename,] +\n",
      "                         ['-{option} {value}'.format(option=k, value=v) for k,v in params_dict.items()],\n",
      "                         ).communicate()\n",
      "        \n",
      "    #print os.listdir(result_dirname)\n",
      "    \n",
      "    desc_csv_filename = os.path.join(result_dirname, cached_filename_base + '_pockets.csv')\n",
      "    pockets_table = pd.read_csv(desc_csv_filename, skiprows=1, )#index_col=[0])\n",
      "    num_pockets = len(pockets_table)\n",
      "    \n",
      "    pockets_dirname = os.path.join(result_dirname, 'pockets')\n",
      "    def get_pocket_atoms(num):\n",
      "        pocket_atm_filename = os.path.join(pockets_dirname, 'pocket{num:02d}_vert.pdb'.format(num=num))\n",
      "        assert os.path.isfile(pocket_atm_filename)\n",
      "        return prody.parsePDB(pocket_atm_filename)\n",
      "    \n",
      "    pockets_table['Pocket PDB'] = pockets_table.reset_index().index.map(get_pocket_atoms)\n",
      "    \n",
      "    return pockets_table"
     ],
     "language": "python",
     "metadata": {},
     "outputs": []
    },
    {
     "cell_type": "code",
     "collapsed": false,
     "input": [
      "#@memory.cache\n",
      "def nearby_pockets(chid, resnum):\n",
      "    res = boundReceptor.getHierView().getResidue(chid, resnum)\n",
      "    pockets = fpocket(boundPdbFilename)\n",
      "    \n",
      "    res_contacts = prody.Contacts(res.noh.getCoords())\n",
      "    def near_res(pocket_atoms):\n",
      "        return res_contacts.select(4.5, pocket_atoms) is not None\n",
      "    \n",
      "    return pockets[pockets['Pocket PDB'].map(near_res)]"
     ],
     "language": "python",
     "metadata": {},
     "outputs": []
    },
    {
     "cell_type": "code",
     "collapsed": false,
     "input": [
      "d = table.ix[1][-1]\n",
      "d"
     ],
     "language": "python",
     "metadata": {},
     "outputs": []
    },
    {
     "cell_type": "code",
     "collapsed": false,
     "input": [
      "nearby_pockets('A', 2)"
     ],
     "language": "python",
     "metadata": {},
     "outputs": []
    },
    {
     "cell_type": "code",
     "collapsed": false,
     "input": [
      "def nearby_pocket_rank(chid, resnum):\n",
      "    pocs = nearby_pockets(chid, resnum)\n",
      "    if len(pocs)==0:\n",
      "        return 5\n",
      "    return pocs['Pocket rank'].values[0]"
     ],
     "language": "python",
     "metadata": {},
     "outputs": []
    },
    {
     "cell_type": "code",
     "collapsed": false,
     "input": [
      "nearby_pocket_rank('A', 2)"
     ],
     "language": "python",
     "metadata": {},
     "outputs": []
    },
    {
     "cell_type": "code",
     "collapsed": false,
     "input": [
      "ccl_conts = [prody.Contacts(ccl) for ccl in ccls]\n",
      "ccl_centers = [prody.calcCenter(ccl) for ccl in ccls]\n",
      "limited_ranks = [i+1 if i<4 else 5 for i in range(len(ccls))]\n",
      "sizes = np.array([ccl.numResidues() for ccl in ccls])\n",
      "sizes_scaled = np.array([i if i<5 else 4 for i in np.ceil(sizes / float(5))])\n",
      "\n",
      "frag_norm_rank = limited_ranks / sizes_scaled\n",
      "frag_norm_rank = (frag_norm_rank - frag_norm_rank.min()) / frag_norm_rank.max()\n",
      "display(frag_norm_rank)\n",
      "display(zip(limited_ranks, sizes_scaled))\n",
      "\n",
      "res_cbetas = boundReceptor.select('(name CB and not resname GLY) or (name CA and resname GLY)')\n",
      "\n",
      "d=pd.DataFrame(cdist(res_cbetas.getCoords(), ccl_centers),\n",
      "               index = map(repr, boundReceptor.iterResidues()),\n",
      "               #columns = map(repr, ccls),\n",
      "               columns = enumerate(map(len, ccls), 1),\n",
      "                )\n",
      "\n",
      "rech = boundReceptor.getHierView()\n",
      "for res in boundReceptor.iterResidues():\n",
      "    #res_row = d.ix[repr(res)]\n",
      "    #near_ccls = res_row[res_row<10]\n",
      "    #print res, near_ccls.index.tolist()\n",
      "    #print res, res_row.argmin(), res_row.min()\n",
      "    c = prody.Contacts(res)\n",
      "    def near_res(atoms, cutoff=4.0):\n",
      "        return c.select(cutoff, atoms) is not None\n",
      "    nearby_ccls = np.array(map(near_res, ccls))\n",
      "    print res, \n",
      "    print(frag_norm_rank[nearby_ccls])"
     ],
     "language": "python",
     "metadata": {},
     "outputs": []
    },
    {
     "cell_type": "code",
     "collapsed": false,
     "input": [
      "for res in boundReceptor.iterResidues():\n",
      "    conts = [c.select(4.5, res) for c in ccl_conts]\n",
      "    cb=res.getAtom('CB') or res.getAtom('CA')\n",
      "    print cb, cb.getCoords()\n",
      "    #print res, [(repr(ccl), len(c)) for ccl, c in zip(ccls, conts) if c]"
     ],
     "language": "python",
     "metadata": {},
     "outputs": []
    }
   ],
   "metadata": {}
  }
 ]
}
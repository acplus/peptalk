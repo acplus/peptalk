{
 "metadata": {
  "name": "match-bound-unbound"
 },
 "nbformat": 3,
 "nbformat_minor": 0,
 "worksheets": [
  {
   "cells": [
    {
     "cell_type": "code",
     "collapsed": false,
     "input": [
      "import prody\n",
      "prody.confProDy(verbosity='warning')\n",
      "import pandas as pd\n",
      "import numpy as np\n",
      "import os\n",
      "\n",
      "from collections import OrderedDict"
     ],
     "language": "python",
     "metadata": {},
     "outputs": [],
     "prompt_number": 146
    },
    {
     "cell_type": "code",
     "collapsed": false,
     "input": [
      "prody.setAlignmentMethod('local')"
     ],
     "language": "python",
     "metadata": {},
     "outputs": [],
     "prompt_number": 116
    },
    {
     "cell_type": "code",
     "collapsed": false,
     "input": [
      "def getUnboundResidues(pdbid, bound_resnums):\n",
      "    bound_path_template = '../data/peptiDB/bound/boundSet/mainChain/{}.pdb'\n",
      "    b = prody.parsePDB(bound_path_template.format(pdbid))\n",
      "    b.setTitle(b.getTitle()+'_bound')\n",
      "    \n",
      "    unbound_path_template = '../data/peptiDB/unbound/unboundSet/{}.pdb'\n",
      "    unbound_path = unbound_path_template.format(pdbid)\n",
      "    if not os.path.isfile(unbound_path):\n",
      "        return [-1]*len(bound_resnums)\n",
      "    ub = prody.parsePDB(unbound_path)\n",
      "    ub.setTitle(ub.getTitle()+'_unbound')\n",
      "    \n",
      "    m = prody.matchChains(b, ub, seqid=30, overlap=20, pwalign=True)\n",
      "    #if m is None:\n",
      "    #    m = prody.matchChains(b, ub, seqid=30, overlap=80, )\n",
      "    b_mapped, ub_mapped = m[0][:2]\n",
      "    b_ub_mapping = dict(zip(b_mapped.getResnums(), ub_mapped.getResnums()))\n",
      "    unbound_resnums = [b_ub_mapping[b_resnum] if b_ub_mapping.has_key(b_resnum) else -2 \n",
      "                        for b_resnum in bound_resnums]\n",
      "    assert len(unbound_resnums)==len(bound_resnums)\n",
      "    return unbound_resnums"
     ],
     "language": "python",
     "metadata": {},
     "outputs": [],
     "prompt_number": 171
    },
    {
     "cell_type": "code",
     "collapsed": false,
     "input": [
      "%precision"
     ],
     "language": "python",
     "metadata": {},
     "outputs": [
      {
       "output_type": "pyout",
       "prompt_number": 202,
       "text": [
        "u'%r'"
       ]
      }
     ],
     "prompt_number": 202
    },
    {
     "cell_type": "code",
     "collapsed": false,
     "input": [
      "bound_ddgs = pd.read_csv('boundRes.ddg.txt', sep=' ',)# index_col=[0,2,1])\n",
      "def getMappedTable(pdbid):\n",
      "    bound_positives = bound_ddgs.ix[(bound_ddgs.PDBID==pdbid)]# & (bound_ddgs.ALASCAN_DDG > 0)]#.head(10)\n",
      "    \n",
      "    unbound_positives = pd.Series(\n",
      "                                  data=getUnboundResidues(pdbid, bound_positives.RESNUM), \n",
      "                                  index=bound_positives.index,\n",
      "                                  #dtype=np.int64,\n",
      "                                  )\n",
      "    \n",
      "    bound_positives['UNBOUND_RESNUM'] = unbound_positives\n",
      "    display(bound_positives)\n",
      "    return bound_positives.set_index(['PDBID','RESNUM'],)"
     ],
     "language": "python",
     "metadata": {},
     "outputs": [],
     "prompt_number": 199
    },
    {
     "cell_type": "code",
     "collapsed": false,
     "input": [
      "tdict = OrderedDict()\n",
      "for p in bound_ddgs.PDBID.unique():\n",
      "    print p, \n",
      "    tdict[p] = getMappedTable(p)\n",
      "    #break\n",
      "print ''\n",
      "\n",
      "ddgs = pd.concat((tdict[p] for p in tdict), )\n",
      "ddgs.UNBOUND_RESNUM.head()"
     ],
     "language": "python",
     "metadata": {},
     "outputs": [
      {
       "output_type": "stream",
       "stream": "stdout",
       "text": [
        "1AWR "
       ]
      },
      {
       "output_type": "stream",
       "stream": "stdout",
       "text": [
        "1CKA "
       ]
      },
      {
       "output_type": "stream",
       "stream": "stdout",
       "text": [
        "1CZY "
       ]
      },
      {
       "output_type": "stream",
       "stream": "stdout",
       "text": [
        "1D4T "
       ]
      },
      {
       "output_type": "stream",
       "stream": "stdout",
       "text": [
        "1DDV "
       ]
      },
      {
       "output_type": "stream",
       "stream": "stdout",
       "text": [
        "1DKX "
       ]
      },
      {
       "output_type": "stream",
       "stream": "stdout",
       "text": [
        "1EG4 "
       ]
      },
      {
       "output_type": "stream",
       "stream": "stdout",
       "text": [
        "1ER8 "
       ]
      },
      {
       "output_type": "stream",
       "stream": "stdout",
       "text": [
        "1GYB "
       ]
      },
      {
       "output_type": "stream",
       "stream": "stdout",
       "text": [
        "1HC9 1IHJ "
       ]
      },
      {
       "output_type": "stream",
       "stream": "stdout",
       "text": [
        "1JD5 "
       ]
      },
      {
       "output_type": "stream",
       "stream": "stdout",
       "text": [
        "1JWG "
       ]
      },
      {
       "output_type": "stream",
       "stream": "stdout",
       "text": [
        "1LVM "
       ]
      },
      {
       "output_type": "stream",
       "stream": "stdout",
       "text": [
        "1MFG "
       ]
      },
      {
       "output_type": "stream",
       "stream": "stdout",
       "text": [
        "1N7F "
       ]
      },
      {
       "output_type": "stream",
       "stream": "stdout",
       "text": [
        "1NLN 1NQ7 "
       ]
      },
      {
       "output_type": "stream",
       "stream": "stdout",
       "text": [
        "1NTV "
       ]
      },
      {
       "output_type": "stream",
       "stream": "stdout",
       "text": [
        "1NVR "
       ]
      },
      {
       "output_type": "stream",
       "stream": "stdout",
       "text": [
        "1NX1 "
       ]
      },
      {
       "output_type": "stream",
       "stream": "stdout",
       "text": [
        "1OAI 1QKZ "
       ]
      },
      {
       "output_type": "stream",
       "stream": "stdout",
       "text": [
        "1RXZ "
       ]
      },
      {
       "output_type": "stream",
       "stream": "stdout",
       "text": [
        "1SE0 "
       ]
      },
      {
       "output_type": "stream",
       "stream": "stdout",
       "text": [
        "1SFI "
       ]
      },
      {
       "output_type": "stream",
       "stream": "stdout",
       "text": [
        "1SSH 1T4F "
       ]
      },
      {
       "output_type": "stream",
       "stream": "stdout",
       "text": [
        "1T7R "
       ]
      },
      {
       "output_type": "stream",
       "stream": "stdout",
       "text": [
        "1TP5 "
       ]
      },
      {
       "output_type": "stream",
       "stream": "stdout",
       "text": [
        "1TW6 "
       ]
      },
      {
       "output_type": "stream",
       "stream": "stdout",
       "text": [
        "1U00 "
       ]
      },
      {
       "output_type": "stream",
       "stream": "stdout",
       "text": [
        "1UJ0 1VZQ "
       ]
      },
      {
       "output_type": "stream",
       "stream": "stdout",
       "text": [
        "1W9E "
       ]
      },
      {
       "output_type": "stream",
       "stream": "stdout",
       "text": [
        "1X2R "
       ]
      },
      {
       "output_type": "stream",
       "stream": "stdout",
       "text": [
        "1YMT "
       ]
      },
      {
       "output_type": "stream",
       "stream": "stdout",
       "text": [
        "1YWO 2A3I "
       ]
      },
      {
       "output_type": "stream",
       "stream": "stdout",
       "text": [
        "2AK5 2B1Z 2B9H "
       ]
      },
      {
       "output_type": "stream",
       "stream": "stdout",
       "text": [
        "2BBA 2C3I "
       ]
      },
      {
       "output_type": "stream",
       "stream": "stdout",
       "text": [
        "2CCH "
       ]
      },
      {
       "output_type": "stream",
       "stream": "stdout",
       "text": [
        "2D0N 2DS8 2FMF "
       ]
      },
      {
       "output_type": "stream",
       "stream": "stdout",
       "text": [
        "2FOJ "
       ]
      },
      {
       "output_type": "stream",
       "stream": "stdout",
       "text": [
        "2FVJ "
       ]
      },
      {
       "output_type": "stream",
       "stream": "stdout",
       "text": [
        "2H9M "
       ]
      },
      {
       "output_type": "stream",
       "stream": "stdout",
       "text": [
        "2HO2 2HPL "
       ]
      },
      {
       "output_type": "stream",
       "stream": "stdout",
       "text": [
        "2J6F 2JAM "
       ]
      },
      {
       "output_type": "stream",
       "stream": "stdout",
       "text": [
        "2O02 "
       ]
      },
      {
       "output_type": "stream",
       "stream": "stdout",
       "text": [
        "2O4J "
       ]
      },
      {
       "output_type": "stream",
       "stream": "stdout",
       "text": [
        "2O9V 2P0W "
       ]
      },
      {
       "output_type": "stream",
       "stream": "stdout",
       "text": [
        "2P1K 2P1T 2P54 "
       ]
      },
      {
       "output_type": "stream",
       "stream": "stdout",
       "text": [
        "2PUY 2QOS "
       ]
      },
      {
       "output_type": "stream",
       "stream": "stdout",
       "text": [
        "2R7G 2V3S 2VJ0 "
       ]
      },
      {
       "output_type": "stream",
       "stream": "stdout",
       "text": [
        "2ZJD "
       ]
      },
      {
       "output_type": "stream",
       "stream": "stdout",
       "text": [
        "3BU3 3BWA "
       ]
      },
      {
       "output_type": "stream",
       "stream": "stdout",
       "text": [
        "3CVP "
       ]
      },
      {
       "output_type": "stream",
       "stream": "stdout",
       "text": [
        "3D1E "
       ]
      },
      {
       "output_type": "stream",
       "stream": "stdout",
       "text": [
        "3D9T "
       ]
      },
      {
       "output_type": "stream",
       "stream": "stdout",
       "text": [
        "\n"
       ]
      },
      {
       "output_type": "pyout",
       "prompt_number": 176,
       "text": [
        "PDBID  RESNUM\n",
        "1AWR   1          2\n",
        "       12        13\n",
        "       13        14\n",
        "       14        15\n",
        "       15        16\n",
        "Name: UNBOUND_RESNUM"
       ]
      }
     ],
     "prompt_number": 176
    },
    {
     "cell_type": "code",
     "collapsed": true,
     "input": [
      "display(ddgs.reset_index().set_index(['PDBID','UNBOUND_RESNUM']).ix['1QKZ'].head(100))"
     ],
     "language": "python",
     "metadata": {},
     "outputs": [
      {
       "html": [
        "<div style=\"max-height:1000px;max-width:1500px;overflow:auto;\">\n",
        "<table border=\"1\" class=\"dataframe\">\n",
        "  <thead>\n",
        "    <tr style=\"text-align: right;\">\n",
        "      <th></th>\n",
        "      <th>RESNUM</th>\n",
        "      <th>RESNAME</th>\n",
        "      <th>ALASCAN_DDG</th>\n",
        "    </tr>\n",
        "    <tr>\n",
        "      <th>UNBOUND_RESNUM</th>\n",
        "      <th></th>\n",
        "      <th></th>\n",
        "      <th></th>\n",
        "    </tr>\n",
        "  </thead>\n",
        "  <tbody>\n",
        "    <tr>\n",
        "      <th> 1  </th>\n",
        "      <td>   1</td>\n",
        "      <td> ASP</td>\n",
        "      <td> 0.0</td>\n",
        "    </tr>\n",
        "    <tr>\n",
        "      <th> 3  </th>\n",
        "      <td>   3</td>\n",
        "      <td> LYS</td>\n",
        "      <td> 0.0</td>\n",
        "    </tr>\n",
        "    <tr>\n",
        "      <th> 5  </th>\n",
        "      <td>   5</td>\n",
        "      <td> VAL</td>\n",
        "      <td> 0.0</td>\n",
        "    </tr>\n",
        "    <tr>\n",
        "      <th> 7  </th>\n",
        "      <td>   7</td>\n",
        "      <td> SER</td>\n",
        "      <td> 0.0</td>\n",
        "    </tr>\n",
        "    <tr>\n",
        "      <th> 8  </th>\n",
        "      <td>   8</td>\n",
        "      <td> GLY</td>\n",
        "      <td> 0.0</td>\n",
        "    </tr>\n",
        "    <tr>\n",
        "      <th> 9  </th>\n",
        "      <td>   9</td>\n",
        "      <td> GLY</td>\n",
        "      <td> 0.0</td>\n",
        "    </tr>\n",
        "    <tr>\n",
        "      <th> 10 </th>\n",
        "      <td>  10</td>\n",
        "      <td> GLY</td>\n",
        "      <td> 0.0</td>\n",
        "    </tr>\n",
        "    <tr>\n",
        "      <th> 11 </th>\n",
        "      <td>  11</td>\n",
        "      <td> LEU</td>\n",
        "      <td> 0.0</td>\n",
        "    </tr>\n",
        "    <tr>\n",
        "      <th> 13 </th>\n",
        "      <td>  13</td>\n",
        "      <td> LYS</td>\n",
        "      <td> 0.0</td>\n",
        "    </tr>\n",
        "    <tr>\n",
        "      <th> 14 </th>\n",
        "      <td>  14</td>\n",
        "      <td> PRO</td>\n",
        "      <td> 0.0</td>\n",
        "    </tr>\n",
        "    <tr>\n",
        "      <th> 15 </th>\n",
        "      <td>  15</td>\n",
        "      <td> GLY</td>\n",
        "      <td> 0.0</td>\n",
        "    </tr>\n",
        "    <tr>\n",
        "      <th> 16 </th>\n",
        "      <td>  16</td>\n",
        "      <td> ARG</td>\n",
        "      <td> 0.0</td>\n",
        "    </tr>\n",
        "    <tr>\n",
        "      <th> 19 </th>\n",
        "      <td>  19</td>\n",
        "      <td> LYS</td>\n",
        "      <td> 0.0</td>\n",
        "    </tr>\n",
        "    <tr>\n",
        "      <th> 23 </th>\n",
        "      <td>  23</td>\n",
        "      <td> ALA</td>\n",
        "      <td> 0.0</td>\n",
        "    </tr>\n",
        "    <tr>\n",
        "      <th> 25 </th>\n",
        "      <td>  25</td>\n",
        "      <td> SER</td>\n",
        "      <td> 0.0</td>\n",
        "    </tr>\n",
        "    <tr>\n",
        "      <th> 26 </th>\n",
        "      <td>  26</td>\n",
        "      <td> GLY</td>\n",
        "      <td> 0.0</td>\n",
        "    </tr>\n",
        "    <tr>\n",
        "      <th> 28 </th>\n",
        "      <td>  28</td>\n",
        "      <td> THR</td>\n",
        "      <td> 0.0</td>\n",
        "    </tr>\n",
        "    <tr>\n",
        "      <th> 30 </th>\n",
        "      <td>  30</td>\n",
        "      <td> SER</td>\n",
        "      <td> 0.0</td>\n",
        "    </tr>\n",
        "    <tr>\n",
        "      <th> 31 </th>\n",
        "      <td>  31</td>\n",
        "      <td> ASP</td>\n",
        "      <td> 0.0</td>\n",
        "    </tr>\n",
        "    <tr>\n",
        "      <th> 33 </th>\n",
        "      <td>  33</td>\n",
        "      <td> TYR</td>\n",
        "      <td> 2.4</td>\n",
        "    </tr>\n",
        "    <tr>\n",
        "      <th> 41 </th>\n",
        "      <td>  41</td>\n",
        "      <td> PRO</td>\n",
        "      <td> 0.0</td>\n",
        "    </tr>\n",
        "    <tr>\n",
        "      <th> 42 </th>\n",
        "      <td>  42</td>\n",
        "      <td> GLU</td>\n",
        "      <td> 0.0</td>\n",
        "    </tr>\n",
        "    <tr>\n",
        "      <th> 43 </th>\n",
        "      <td>  43</td>\n",
        "      <td> GLN</td>\n",
        "      <td> 0.0</td>\n",
        "    </tr>\n",
        "    <tr>\n",
        "      <th> 44 </th>\n",
        "      <td>  44</td>\n",
        "      <td> ARG</td>\n",
        "      <td> 0.0</td>\n",
        "    </tr>\n",
        "    <tr>\n",
        "      <th> 45 </th>\n",
        "      <td>  45</td>\n",
        "      <td> LEU</td>\n",
        "      <td> 0.0</td>\n",
        "    </tr>\n",
        "    <tr>\n",
        "      <th> 46 </th>\n",
        "      <td>  46</td>\n",
        "      <td> GLU</td>\n",
        "      <td> 0.0</td>\n",
        "    </tr>\n",
        "    <tr>\n",
        "      <th> 47 </th>\n",
        "      <td>  47</td>\n",
        "      <td> TRP</td>\n",
        "      <td> 0.7</td>\n",
        "    </tr>\n",
        "    <tr>\n",
        "      <th> 50 </th>\n",
        "      <td>  50</td>\n",
        "      <td> THR</td>\n",
        "      <td> 1.2</td>\n",
        "    </tr>\n",
        "    <tr>\n",
        "      <th>-2  </th>\n",
        "      <td>  53</td>\n",
        "      <td> ASP</td>\n",
        "      <td> 0.0</td>\n",
        "    </tr>\n",
        "    <tr>\n",
        "      <th> 53 </th>\n",
        "      <td>  54</td>\n",
        "      <td> GLY</td>\n",
        "      <td> 0.0</td>\n",
        "    </tr>\n",
        "    <tr>\n",
        "      <th> 54 </th>\n",
        "      <td>  55</td>\n",
        "      <td> GLY</td>\n",
        "      <td> 0.0</td>\n",
        "    </tr>\n",
        "    <tr>\n",
        "      <th> 55 </th>\n",
        "      <td>  56</td>\n",
        "      <td> ALA</td>\n",
        "      <td> 0.0</td>\n",
        "    </tr>\n",
        "    <tr>\n",
        "      <th> 56 </th>\n",
        "      <td>  57</td>\n",
        "      <td> TYR</td>\n",
        "      <td> 0.0</td>\n",
        "    </tr>\n",
        "    <tr>\n",
        "      <th> 57 </th>\n",
        "      <td>  58</td>\n",
        "      <td> THR</td>\n",
        "      <td> 0.0</td>\n",
        "    </tr>\n",
        "    <tr>\n",
        "      <th> 58 </th>\n",
        "      <td>  59</td>\n",
        "      <td> TYR</td>\n",
        "      <td> 1.7</td>\n",
        "    </tr>\n",
        "    <tr>\n",
        "      <th> 61 </th>\n",
        "      <td>  62</td>\n",
        "      <td> ASP</td>\n",
        "      <td> 0.0</td>\n",
        "    </tr>\n",
        "    <tr>\n",
        "      <th> 62 </th>\n",
        "      <td>  63</td>\n",
        "      <td> SER</td>\n",
        "      <td> 0.0</td>\n",
        "    </tr>\n",
        "    <tr>\n",
        "      <th> 64 </th>\n",
        "      <td>  65</td>\n",
        "      <td> LYS</td>\n",
        "      <td> 0.0</td>\n",
        "    </tr>\n",
        "    <tr>\n",
        "      <th> 65 </th>\n",
        "      <td>  66</td>\n",
        "      <td> GLY</td>\n",
        "      <td> 0.0</td>\n",
        "    </tr>\n",
        "    <tr>\n",
        "      <th> 68 </th>\n",
        "      <td>  69</td>\n",
        "      <td> THR</td>\n",
        "      <td> 0.0</td>\n",
        "    </tr>\n",
        "    <tr>\n",
        "      <th> 70 </th>\n",
        "      <td>  71</td>\n",
        "      <td> SER</td>\n",
        "      <td> 0.0</td>\n",
        "    </tr>\n",
        "    <tr>\n",
        "      <th> 72 </th>\n",
        "      <td>  73</td>\n",
        "      <td> ASP</td>\n",
        "      <td> 0.0</td>\n",
        "    </tr>\n",
        "    <tr>\n",
        "      <th> 73 </th>\n",
        "      <td>  74</td>\n",
        "      <td> ASN</td>\n",
        "      <td> 0.1</td>\n",
        "    </tr>\n",
        "    <tr>\n",
        "      <th> 74 </th>\n",
        "      <td>  75</td>\n",
        "      <td> ALA</td>\n",
        "      <td> 0.0</td>\n",
        "    </tr>\n",
        "    <tr>\n",
        "      <th> 75 </th>\n",
        "      <td>  76</td>\n",
        "      <td> LYS</td>\n",
        "      <td> 0.0</td>\n",
        "    </tr>\n",
        "    <tr>\n",
        "      <th> 76 </th>\n",
        "      <td>  77</td>\n",
        "      <td> ASN</td>\n",
        "      <td> 0.0</td>\n",
        "    </tr>\n",
        "    <tr>\n",
        "      <th>-2  </th>\n",
        "      <td>  84</td>\n",
        "      <td> ASN</td>\n",
        "      <td> 0.0</td>\n",
        "    </tr>\n",
        "    <tr>\n",
        "      <th>-2  </th>\n",
        "      <td>  85</td>\n",
        "      <td> SER</td>\n",
        "      <td> 0.0</td>\n",
        "    </tr>\n",
        "    <tr>\n",
        "      <th> 83 </th>\n",
        "      <td>  87</td>\n",
        "      <td> LYS</td>\n",
        "      <td> 0.0</td>\n",
        "    </tr>\n",
        "    <tr>\n",
        "      <th> 84 </th>\n",
        "      <td>  88</td>\n",
        "      <td> SER</td>\n",
        "      <td> 0.0</td>\n",
        "    </tr>\n",
        "    <tr>\n",
        "      <th> 85 </th>\n",
        "      <td>  89</td>\n",
        "      <td> GLU</td>\n",
        "      <td> 0.0</td>\n",
        "    </tr>\n",
        "    <tr>\n",
        "      <th> 89 </th>\n",
        "      <td>  93</td>\n",
        "      <td> MET</td>\n",
        "      <td> 0.0</td>\n",
        "    </tr>\n",
        "    <tr>\n",
        "      <th>-2  </th>\n",
        "      <td>  99</td>\n",
        "      <td> ASP</td>\n",
        "      <td> 1.4</td>\n",
        "    </tr>\n",
        "    <tr>\n",
        "      <th> 95 </th>\n",
        "      <td> 101</td>\n",
        "      <td> LEU</td>\n",
        "      <td> 0.3</td>\n",
        "    </tr>\n",
        "    <tr>\n",
        "      <th> 96 </th>\n",
        "      <td> 102</td>\n",
        "      <td> GLU</td>\n",
        "      <td> 0.0</td>\n",
        "    </tr>\n",
        "    <tr>\n",
        "      <th> 97 </th>\n",
        "      <td> 103</td>\n",
        "      <td> TYR</td>\n",
        "      <td> 0.0</td>\n",
        "    </tr>\n",
        "    <tr>\n",
        "      <th> 98 </th>\n",
        "      <td> 104</td>\n",
        "      <td> TYR</td>\n",
        "      <td> 2.8</td>\n",
        "    </tr>\n",
        "    <tr>\n",
        "      <th> 99 </th>\n",
        "      <td> 105</td>\n",
        "      <td> GLY</td>\n",
        "      <td> 0.1</td>\n",
        "    </tr>\n",
        "    <tr>\n",
        "      <th> 100</th>\n",
        "      <td> 106</td>\n",
        "      <td> MET</td>\n",
        "      <td> 0.0</td>\n",
        "    </tr>\n",
        "    <tr>\n",
        "      <th> 101</th>\n",
        "      <td> 107</td>\n",
        "      <td> ASP</td>\n",
        "      <td> 0.0</td>\n",
        "    </tr>\n",
        "    <tr>\n",
        "      <th> 102</th>\n",
        "      <td> 108</td>\n",
        "      <td> TYR</td>\n",
        "      <td> 0.0</td>\n",
        "    </tr>\n",
        "    <tr>\n",
        "      <th> 103</th>\n",
        "      <td> 109</td>\n",
        "      <td> TRP</td>\n",
        "      <td> 0.0</td>\n",
        "    </tr>\n",
        "    <tr>\n",
        "      <th> 105</th>\n",
        "      <td> 111</td>\n",
        "      <td> GLN</td>\n",
        "      <td> 0.0</td>\n",
        "    </tr>\n",
        "    <tr>\n",
        "      <th> 108</th>\n",
        "      <td> 114</td>\n",
        "      <td> SER</td>\n",
        "      <td> 0.0</td>\n",
        "    </tr>\n",
        "    <tr>\n",
        "      <th> 110</th>\n",
        "      <td> 116</td>\n",
        "      <td> ALA</td>\n",
        "      <td> 0.0</td>\n",
        "    </tr>\n",
        "    <tr>\n",
        "      <th> 113</th>\n",
        "      <td> 119</td>\n",
        "      <td> SER</td>\n",
        "      <td> 0.0</td>\n",
        "    </tr>\n",
        "    <tr>\n",
        "      <th> 115</th>\n",
        "      <td> 121</td>\n",
        "      <td> LYS</td>\n",
        "      <td> 0.0</td>\n",
        "    </tr>\n",
        "    <tr>\n",
        "      <th> 116</th>\n",
        "      <td> 122</td>\n",
        "      <td> THR</td>\n",
        "      <td> 0.0</td>\n",
        "    </tr>\n",
        "    <tr>\n",
        "      <th> 117</th>\n",
        "      <td> 123</td>\n",
        "      <td> THR</td>\n",
        "      <td> 0.0</td>\n",
        "    </tr>\n",
        "    <tr>\n",
        "      <th> 118</th>\n",
        "      <td> 124</td>\n",
        "      <td> ALA</td>\n",
        "      <td> 0.0</td>\n",
        "    </tr>\n",
        "    <tr>\n",
        "      <th> 120</th>\n",
        "      <td> 126</td>\n",
        "      <td> SER</td>\n",
        "      <td> 0.0</td>\n",
        "    </tr>\n",
        "    <tr>\n",
        "      <th> 122</th>\n",
        "      <td> 128</td>\n",
        "      <td> TYR</td>\n",
        "      <td> 0.0</td>\n",
        "    </tr>\n",
        "    <tr>\n",
        "      <th> 123</th>\n",
        "      <td> 129</td>\n",
        "      <td> PRO</td>\n",
        "      <td> 0.0</td>\n",
        "    </tr>\n",
        "    <tr>\n",
        "      <th> 124</th>\n",
        "      <td> 130</td>\n",
        "      <td> LEU</td>\n",
        "      <td> 0.0</td>\n",
        "    </tr>\n",
        "    <tr>\n",
        "      <th> 127</th>\n",
        "      <td> 133</td>\n",
        "      <td> VAL</td>\n",
        "      <td> 0.0</td>\n",
        "    </tr>\n",
        "    <tr>\n",
        "      <th>-2  </th>\n",
        "      <td> 134</td>\n",
        "      <td> CYS</td>\n",
        "      <td> 0.0</td>\n",
        "    </tr>\n",
        "    <tr>\n",
        "      <th>-2  </th>\n",
        "      <td> 135</td>\n",
        "      <td> GLY</td>\n",
        "      <td> 0.0</td>\n",
        "    </tr>\n",
        "    <tr>\n",
        "      <th>-2  </th>\n",
        "      <td> 136</td>\n",
        "      <td> ASP</td>\n",
        "      <td> 0.0</td>\n",
        "    </tr>\n",
        "    <tr>\n",
        "      <th>-2  </th>\n",
        "      <td> 137</td>\n",
        "      <td> THR</td>\n",
        "      <td> 0.0</td>\n",
        "    </tr>\n",
        "    <tr>\n",
        "      <th>-2  </th>\n",
        "      <td> 138</td>\n",
        "      <td> THR</td>\n",
        "      <td> 0.0</td>\n",
        "    </tr>\n",
        "    <tr>\n",
        "      <th>-2  </th>\n",
        "      <td> 139</td>\n",
        "      <td> GLY</td>\n",
        "      <td> 0.0</td>\n",
        "    </tr>\n",
        "    <tr>\n",
        "      <th> 128</th>\n",
        "      <td> 140</td>\n",
        "      <td> SER</td>\n",
        "      <td> 0.0</td>\n",
        "    </tr>\n",
        "    <tr>\n",
        "      <th> 129</th>\n",
        "      <td> 141</td>\n",
        "      <td> SER</td>\n",
        "      <td> 0.0</td>\n",
        "    </tr>\n",
        "    <tr>\n",
        "      <th> 131</th>\n",
        "      <td> 143</td>\n",
        "      <td> THR</td>\n",
        "      <td> 0.0</td>\n",
        "    </tr>\n",
        "    <tr>\n",
        "      <th> 137</th>\n",
        "      <td> 149</td>\n",
        "      <td> LYS</td>\n",
        "      <td> 0.0</td>\n",
        "    </tr>\n",
        "    <tr>\n",
        "      <th> 142</th>\n",
        "      <td> 154</td>\n",
        "      <td> GLU</td>\n",
        "      <td> 0.0</td>\n",
        "    </tr>\n",
        "    <tr>\n",
        "      <th> 143</th>\n",
        "      <td> 155</td>\n",
        "      <td> PRO</td>\n",
        "      <td> 0.0</td>\n",
        "    </tr>\n",
        "    <tr>\n",
        "      <th> 145</th>\n",
        "      <td> 157</td>\n",
        "      <td> THR</td>\n",
        "      <td> 0.0</td>\n",
        "    </tr>\n",
        "    <tr>\n",
        "      <th> 147</th>\n",
        "      <td> 159</td>\n",
        "      <td> THR</td>\n",
        "      <td> 0.0</td>\n",
        "    </tr>\n",
        "    <tr>\n",
        "      <th> 149</th>\n",
        "      <td> 161</td>\n",
        "      <td> ASN</td>\n",
        "      <td> 0.0</td>\n",
        "    </tr>\n",
        "    <tr>\n",
        "      <th> 150</th>\n",
        "      <td> 162</td>\n",
        "      <td> SER</td>\n",
        "      <td> 0.0</td>\n",
        "    </tr>\n",
        "    <tr>\n",
        "      <th> 151</th>\n",
        "      <td> 163</td>\n",
        "      <td> GLY</td>\n",
        "      <td> 0.0</td>\n",
        "    </tr>\n",
        "    <tr>\n",
        "      <th> 152</th>\n",
        "      <td> 164</td>\n",
        "      <td> SER</td>\n",
        "      <td> 0.0</td>\n",
        "    </tr>\n",
        "    <tr>\n",
        "      <th> 154</th>\n",
        "      <td> 166</td>\n",
        "      <td> SER</td>\n",
        "      <td> 0.0</td>\n",
        "    </tr>\n",
        "    <tr>\n",
        "      <th> 155</th>\n",
        "      <td> 167</td>\n",
        "      <td> SER</td>\n",
        "      <td> 0.0</td>\n",
        "    </tr>\n",
        "    <tr>\n",
        "      <th> 156</th>\n",
        "      <td> 168</td>\n",
        "      <td> GLY</td>\n",
        "      <td> 0.0</td>\n",
        "    </tr>\n",
        "    <tr>\n",
        "      <th> 158</th>\n",
        "      <td> 170</td>\n",
        "      <td> HIS</td>\n",
        "      <td> 0.0</td>\n",
        "    </tr>\n",
        "    <tr>\n",
        "      <th> 159</th>\n",
        "      <td> 171</td>\n",
        "      <td> THR</td>\n",
        "      <td> 0.0</td>\n",
        "    </tr>\n",
        "    <tr>\n",
        "      <th> 160</th>\n",
        "      <td> 172</td>\n",
        "      <td> PHE</td>\n",
        "      <td> 0.0</td>\n",
        "    </tr>\n",
        "    <tr>\n",
        "      <th> 161</th>\n",
        "      <td> 173</td>\n",
        "      <td> PRO</td>\n",
        "      <td> 0.0</td>\n",
        "    </tr>\n",
        "  </tbody>\n",
        "</table>\n",
        "</div>"
       ],
       "output_type": "display_data",
       "text": [
        "                RESNUM RESNAME  ALASCAN_DDG\n",
        "UNBOUND_RESNUM                             \n",
        " 1                   1     ASP          0.0\n",
        " 3                   3     LYS          0.0\n",
        " 5                   5     VAL          0.0\n",
        " 7                   7     SER          0.0\n",
        " 8                   8     GLY          0.0\n",
        " 9                   9     GLY          0.0\n",
        " 10                 10     GLY          0.0\n",
        " 11                 11     LEU          0.0\n",
        " 13                 13     LYS          0.0\n",
        " 14                 14     PRO          0.0\n",
        " 15                 15     GLY          0.0\n",
        " 16                 16     ARG          0.0\n",
        " 19                 19     LYS          0.0\n",
        " 23                 23     ALA          0.0\n",
        " 25                 25     SER          0.0\n",
        " 26                 26     GLY          0.0\n",
        " 28                 28     THR          0.0\n",
        " 30                 30     SER          0.0\n",
        " 31                 31     ASP          0.0\n",
        " 33                 33     TYR          2.4\n",
        " 41                 41     PRO          0.0\n",
        " 42                 42     GLU          0.0\n",
        " 43                 43     GLN          0.0\n",
        " 44                 44     ARG          0.0\n",
        " 45                 45     LEU          0.0\n",
        " 46                 46     GLU          0.0\n",
        " 47                 47     TRP          0.7\n",
        " 50                 50     THR          1.2\n",
        "-2                  53     ASP          0.0\n",
        " 53                 54     GLY          0.0\n",
        " 54                 55     GLY          0.0\n",
        " 55                 56     ALA          0.0\n",
        " 56                 57     TYR          0.0\n",
        " 57                 58     THR          0.0\n",
        " 58                 59     TYR          1.7\n",
        " 61                 62     ASP          0.0\n",
        " 62                 63     SER          0.0\n",
        " 64                 65     LYS          0.0\n",
        " 65                 66     GLY          0.0\n",
        " 68                 69     THR          0.0\n",
        " 70                 71     SER          0.0\n",
        " 72                 73     ASP          0.0\n",
        " 73                 74     ASN          0.1\n",
        " 74                 75     ALA          0.0\n",
        " 75                 76     LYS          0.0\n",
        " 76                 77     ASN          0.0\n",
        "-2                  84     ASN          0.0\n",
        "-2                  85     SER          0.0\n",
        " 83                 87     LYS          0.0\n",
        " 84                 88     SER          0.0\n",
        " 85                 89     GLU          0.0\n",
        " 89                 93     MET          0.0\n",
        "-2                  99     ASP          1.4\n",
        " 95                101     LEU          0.3\n",
        " 96                102     GLU          0.0\n",
        " 97                103     TYR          0.0\n",
        " 98                104     TYR          2.8\n",
        " 99                105     GLY          0.1\n",
        " 100               106     MET          0.0\n",
        " 101               107     ASP          0.0\n",
        " 102               108     TYR          0.0\n",
        " 103               109     TRP          0.0\n",
        " 105               111     GLN          0.0\n",
        " 108               114     SER          0.0\n",
        " 110               116     ALA          0.0\n",
        " 113               119     SER          0.0\n",
        " 115               121     LYS          0.0\n",
        " 116               122     THR          0.0\n",
        " 117               123     THR          0.0\n",
        " 118               124     ALA          0.0\n",
        " 120               126     SER          0.0\n",
        " 122               128     TYR          0.0\n",
        " 123               129     PRO          0.0\n",
        " 124               130     LEU          0.0\n",
        " 127               133     VAL          0.0\n",
        "-2                 134     CYS          0.0\n",
        "-2                 135     GLY          0.0\n",
        "-2                 136     ASP          0.0\n",
        "-2                 137     THR          0.0\n",
        "-2                 138     THR          0.0\n",
        "-2                 139     GLY          0.0\n",
        " 128               140     SER          0.0\n",
        " 129               141     SER          0.0\n",
        " 131               143     THR          0.0\n",
        " 137               149     LYS          0.0\n",
        " 142               154     GLU          0.0\n",
        " 143               155     PRO          0.0\n",
        " 145               157     THR          0.0\n",
        " 147               159     THR          0.0\n",
        " 149               161     ASN          0.0\n",
        " 150               162     SER          0.0\n",
        " 151               163     GLY          0.0\n",
        " 152               164     SER          0.0\n",
        " 154               166     SER          0.0\n",
        " 155               167     SER          0.0\n",
        " 156               168     GLY          0.0\n",
        " 158               170     HIS          0.0\n",
        " 159               171     THR          0.0\n",
        " 160               172     PHE          0.0\n",
        " 161               173     PRO          0.0"
       ]
      }
     ],
     "prompt_number": 319
    },
    {
     "cell_type": "code",
     "collapsed": false,
     "input": [
      "pd.set_option('display.precision', 1)\n",
      "ddgs.to_csv('ddgs.full.csv', float_format='%.1f')"
     ],
     "language": "python",
     "metadata": {},
     "outputs": [],
     "prompt_number": 191
    },
    {
     "cell_type": "code",
     "collapsed": false,
     "input": [
      "ddgs_flat = ddgs.reset_index()\n",
      "ddgs_ub = ddgs_flat.ix[(ddgs_flat.UNBOUND_RESNUM >= 0),['PDBID','UNBOUND_RESNUM', 'ALASCAN_DDG']]\n",
      "ddgs_ub.to_csv('unboundRes.ddg.txt', sep=' ', index=False, float_format='%.1f')"
     ],
     "language": "python",
     "metadata": {},
     "outputs": [],
     "prompt_number": 280
    },
    {
     "cell_type": "code",
     "collapsed": false,
     "input": [
      "from sklearn import datasets\n",
      "\n",
      "unbound_svmlight = datasets.load_svmlight_file('unboundMat.svmlight.txt')[0].toarray()\n",
      "svmlight_index = pd.MultiIndex.from_tuples([(pdbid, int(res[3:])) for pdbid, res \n",
      "                                                in loadtxt('unboundMat.svmlight.txt', \n",
      "                                                skiprows=1, usecols=[8, 10], comments='$', \n",
      "                                                dtype=(str, str))\n",
      "                        ], names=['PDBID', 'RESNUM'])\n",
      "feature_names = [\n",
      "                 'Fragment Normalized rank',\n",
      "                 'Number of Fragments',\n",
      "                 'Conservation score',\n",
      "                 'Normalized pocket rank',\n",
      "                 'AA Polar',\n",
      "                 'AA Hydrophobic',\n",
      "                 ]\n",
      "unbound_svmlight_data = pd.DataFrame(\n",
      "                             data=unbound_svmlight,\n",
      "                             index=svmlight_index,\n",
      "                             columns=feature_names,\n",
      "                             )\n",
      "\n",
      "unbound_ddgs = ddgs_ub.set_index(keys=['PDBID', 'UNBOUND_RESNUM'], )\n",
      "svm_data = unbound_svmlight_data.join(\n",
      "                                other=unbound_ddgs, \n",
      "                                how='left', \n",
      "                            )\n",
      "svm_data.fillna(0, inplace=True)\n",
      "display(svm_data.ix[:,:-1].head(10))#ix[~svm_data.ALASCAN_DDG.notnull()].head(10))\n",
      "svm_data.to_csv('unbound.data.csv', float_format='%.3f', )"
     ],
     "language": "python",
     "metadata": {},
     "outputs": [
      {
       "html": [
        "<div style=\"max-height:1000px;max-width:1500px;overflow:auto;\">\n",
        "<table border=\"1\" class=\"dataframe\">\n",
        "  <thead>\n",
        "    <tr style=\"text-align: right;\">\n",
        "      <th></th>\n",
        "      <th></th>\n",
        "      <th>Fragment Normalized rank</th>\n",
        "      <th>Number of Fragments</th>\n",
        "      <th>Conservation score</th>\n",
        "      <th>Normalized pocket rank</th>\n",
        "      <th>AA Polar</th>\n",
        "      <th>AA Hydrophobic</th>\n",
        "    </tr>\n",
        "    <tr>\n",
        "      <th>PDBID</th>\n",
        "      <th>RESNUM</th>\n",
        "      <th></th>\n",
        "      <th></th>\n",
        "      <th></th>\n",
        "      <th></th>\n",
        "      <th></th>\n",
        "      <th></th>\n",
        "    </tr>\n",
        "  </thead>\n",
        "  <tbody>\n",
        "    <tr>\n",
        "      <th rowspan=\"10\" valign=\"top\">1AWR</th>\n",
        "      <th>2 </th>\n",
        "      <td> 1</td>\n",
        "      <td> 0</td>\n",
        "      <td> 0.9</td>\n",
        "      <td> 0.5</td>\n",
        "      <td> 0</td>\n",
        "      <td> 0</td>\n",
        "    </tr>\n",
        "    <tr>\n",
        "      <th>13</th>\n",
        "      <td> 1</td>\n",
        "      <td> 0</td>\n",
        "      <td> 0.2</td>\n",
        "      <td> 1.0</td>\n",
        "      <td> 1</td>\n",
        "      <td> 1</td>\n",
        "    </tr>\n",
        "    <tr>\n",
        "      <th>14</th>\n",
        "      <td> 1</td>\n",
        "      <td> 0</td>\n",
        "      <td> 0.1</td>\n",
        "      <td> 1.0</td>\n",
        "      <td> 0</td>\n",
        "      <td> 0</td>\n",
        "    </tr>\n",
        "    <tr>\n",
        "      <th>15</th>\n",
        "      <td> 1</td>\n",
        "      <td> 0</td>\n",
        "      <td> 0.1</td>\n",
        "      <td> 1.0</td>\n",
        "      <td> 1</td>\n",
        "      <td> 1</td>\n",
        "    </tr>\n",
        "    <tr>\n",
        "      <th>16</th>\n",
        "      <td> 1</td>\n",
        "      <td> 0</td>\n",
        "      <td> 0.1</td>\n",
        "      <td> 1.0</td>\n",
        "      <td> 0</td>\n",
        "      <td> 1</td>\n",
        "    </tr>\n",
        "    <tr>\n",
        "      <th>17</th>\n",
        "      <td> 1</td>\n",
        "      <td> 0</td>\n",
        "      <td> 0.4</td>\n",
        "      <td> 1.0</td>\n",
        "      <td> 0</td>\n",
        "      <td> 0</td>\n",
        "    </tr>\n",
        "    <tr>\n",
        "      <th>19</th>\n",
        "      <td> 1</td>\n",
        "      <td> 0</td>\n",
        "      <td> 0.9</td>\n",
        "      <td> 1.0</td>\n",
        "      <td> 1</td>\n",
        "      <td> 1</td>\n",
        "    </tr>\n",
        "    <tr>\n",
        "      <th>23</th>\n",
        "      <td> 1</td>\n",
        "      <td> 0</td>\n",
        "      <td> 0.2</td>\n",
        "      <td> 1.0</td>\n",
        "      <td> 1</td>\n",
        "      <td> 1</td>\n",
        "    </tr>\n",
        "    <tr>\n",
        "      <th>27</th>\n",
        "      <td> 1</td>\n",
        "      <td> 0</td>\n",
        "      <td> 0.9</td>\n",
        "      <td> 1.0</td>\n",
        "      <td> 1</td>\n",
        "      <td> 1</td>\n",
        "    </tr>\n",
        "    <tr>\n",
        "      <th>28</th>\n",
        "      <td> 1</td>\n",
        "      <td> 0</td>\n",
        "      <td> 0.3</td>\n",
        "      <td> 1.0</td>\n",
        "      <td> 1</td>\n",
        "      <td> 1</td>\n",
        "    </tr>\n",
        "  </tbody>\n",
        "</table>\n",
        "</div>"
       ],
       "output_type": "display_data",
       "text": [
        "              Fragment Normalized rank  Number of Fragments  Conservation score  \\\n",
        "PDBID RESNUM                                                                      \n",
        "1AWR  2                              1                    0                 0.9   \n",
        "      13                             1                    0                 0.2   \n",
        "      14                             1                    0                 0.1   \n",
        "      15                             1                    0                 0.1   \n",
        "      16                             1                    0                 0.1   \n",
        "      17                             1                    0                 0.4   \n",
        "      19                             1                    0                 0.9   \n",
        "      23                             1                    0                 0.2   \n",
        "      27                             1                    0                 0.9   \n",
        "      28                             1                    0                 0.3   \n",
        "\n",
        "              Normalized pocket rank  AA Polar  AA Hydrophobic  \n",
        "PDBID RESNUM                                                    \n",
        "1AWR  2                          0.5         0               0  \n",
        "      13                         1.0         1               1  \n",
        "      14                         1.0         0               0  \n",
        "      15                         1.0         1               1  \n",
        "      16                         1.0         0               1  \n",
        "      17                         1.0         0               0  \n",
        "      19                         1.0         1               1  \n",
        "      23                         1.0         1               1  \n",
        "      27                         1.0         1               1  \n",
        "      28                         1.0         1               1  "
       ]
      }
     ],
     "prompt_number": 342
    },
    {
     "cell_type": "code",
     "collapsed": false,
     "input": [
      "m = prody.matchChains(b, ub, seqid=80, overlap=60)\n",
      "b_ub_map, ub_b_map = m[0][:2]"
     ],
     "language": "python",
     "metadata": {},
     "outputs": [
      {
       "output_type": "stream",
       "stream": "stderr",
       "text": [
        "@> Checking AtomGroup 2PUY_A: 1 chains are identified\n"
       ]
      },
      {
       "output_type": "stream",
       "stream": "stderr",
       "text": [
        "@> Checking AtomGroup 2PUY: 1 chains are identified\n"
       ]
      },
      {
       "output_type": "stream",
       "stream": "stderr",
       "text": [
        "@> Trying to match chains based on residue numbers and names:\n"
       ]
      },
      {
       "output_type": "stream",
       "stream": "stderr",
       "text": [
        "@>   Comparing Chain A from 2PUY_A (len=60) and Chain A from 2PUY (len=56):\n"
       ]
      },
      {
       "output_type": "stream",
       "stream": "stderr",
       "text": [
        "@> \tFailed to match chains (seqid=4%, overlap=93%).\n"
       ]
      },
      {
       "output_type": "stream",
       "stream": "stderr",
       "text": [
        "@> Trying to match chains based on local sequence alignment:\n"
       ]
      },
      {
       "output_type": "stream",
       "stream": "stderr",
       "text": [
        "@>   Comparing Chain A from 2PUY_A (len=60) and Chain A from 2PUY (len=56):\n"
       ]
      },
      {
       "output_type": "stream",
       "stream": "stderr",
       "text": [
        "@> \tMatch: 52 residues match with 88% sequence identity and 86% overlap.\n"
       ]
      }
     ],
     "prompt_number": 106
    },
    {
     "cell_type": "code",
     "collapsed": false,
     "input": [
      "#map bound resnums to unbound resnums:\n",
      "zip(zip(b_ub_map.getResnames(), b_ub_map.getResnums()), zip(ub_b_map.getResnames(), ub_b_map.getResnums()))"
     ],
     "language": "python",
     "metadata": {},
     "outputs": [
      {
       "output_type": "pyout",
       "prompt_number": 109,
       "text": [
        "[(('HIS', 1), ('SER', 5)),\n",
        " (('MET', 2), ('SER', 6)),\n",
        " (('ILE', 3), ('GLY', 7)),\n",
        " (('HIS', 4), ('HIS', 8)),\n",
        " (('GLU', 5), ('GLU', 9)),\n",
        " (('ASP', 6), ('ASP', 10)),\n",
        " (('PHE', 7), ('PHE', 11)),\n",
        " (('CYS', 8), ('CYS', 12)),\n",
        " (('SER', 9), ('SER', 13)),\n",
        " (('VAL', 10), ('VAL', 14)),\n",
        " (('CYS', 11), ('CYS', 15)),\n",
        " (('ARG', 12), ('ARG', 16)),\n",
        " (('LYS', 13), ('LYS', 17)),\n",
        " (('SER', 14), ('SER', 18)),\n",
        " (('GLY', 15), ('GLY', 19)),\n",
        " (('GLN', 16), ('GLN', 20)),\n",
        " (('LEU', 17), ('LEU', 21)),\n",
        " (('LEU', 18), ('LEU', 22)),\n",
        " (('MET', 19), ('MET', 23)),\n",
        " (('CYS', 20), ('CYS', 24)),\n",
        " (('ASP', 21), ('ASP', 25)),\n",
        " (('THR', 22), ('THR', 26)),\n",
        " (('CYS', 23), ('CYS', 27)),\n",
        " (('SER', 24), ('SER', 28)),\n",
        " (('ARG', 25), ('ARG', 29)),\n",
        " (('VAL', 26), ('VAL', 30)),\n",
        " (('TYR', 27), ('TYR', 31)),\n",
        " (('HIS', 28), ('HIS', 32)),\n",
        " (('LEU', 29), ('LEU', 33)),\n",
        " (('ASP', 30), ('ASP', 34)),\n",
        " (('CYS', 31), ('CYS', 35)),\n",
        " (('LEU', 32), ('LEU', 36)),\n",
        " (('ASP', 33), ('ASP', 37)),\n",
        " (('PRO', 34), ('PRO', 38)),\n",
        " (('PRO', 35), ('PRO', 39)),\n",
        " (('LEU', 36), ('LEU', 40)),\n",
        " (('LYS', 37), ('LYS', 41)),\n",
        " (('THR', 38), ('THR', 42)),\n",
        " (('ILE', 39), ('ILE', 43)),\n",
        " (('PRO', 40), ('PRO', 44)),\n",
        " (('LYS', 41), ('LYS', 45)),\n",
        " (('GLY', 42), ('GLY', 46)),\n",
        " (('MET', 43), ('MET', 47)),\n",
        " (('TRP', 44), ('TRP', 48)),\n",
        " (('ILE', 45), ('ILE', 49)),\n",
        " (('CYS', 46), ('CYS', 50)),\n",
        " (('PRO', 47), ('PRO', 51)),\n",
        " (('ARG', 48), ('ARG', 52)),\n",
        " (('CYS', 49), ('CYS', 53)),\n",
        " (('GLN', 50), ('GLN', 54)),\n",
        " (('ASP', 51), ('ASP', 55)),\n",
        " (('GLN', 52), ('GLN', 56))]"
       ]
      }
     ],
     "prompt_number": 109
    }
   ],
   "metadata": {}
  }
 ]
}